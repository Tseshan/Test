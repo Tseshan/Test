{
 "cells": [
  {
   "cell_type": "code",
   "execution_count": 1,
   "metadata": {},
   "outputs": [],
   "source": [
    "from GetData import GetDataLoader,GetMnistData\n",
    "from Model_package.MLP.MLP import MLP\n",
    "from Model_package.FGSM.fgsm import get_fgsm_samples_data\n",
    "from Model_package.FGSM import fgsm\n",
    "import torch\n",
    "import numpy as np\n",
    "import os\n",
    "import torch.nn.functional as F\n",
    "\n",
    "import sys\n",
    "from matplotlib import pyplot as plt"
   ]
  },
  {
   "cell_type": "code",
   "execution_count": 2,
   "metadata": {},
   "outputs": [],
   "source": [
    "sys.path.append(r'F:\\\\神经网络的鲁棒性探究\\\\Adversarial_clearning')"
   ]
  },
  {
   "cell_type": "code",
   "execution_count": 3,
   "metadata": {},
   "outputs": [
    {
     "data": {
      "text/plain": [
       "['F:\\\\神经网络的鲁棒性探究',\n",
       " 'C:\\\\Users\\\\KING\\\\anaconda3\\\\python38.zip',\n",
       " 'C:\\\\Users\\\\KING\\\\anaconda3\\\\DLLs',\n",
       " 'C:\\\\Users\\\\KING\\\\anaconda3\\\\lib',\n",
       " 'C:\\\\Users\\\\KING\\\\anaconda3',\n",
       " '',\n",
       " 'C:\\\\Users\\\\KING\\\\anaconda3\\\\lib\\\\site-packages',\n",
       " 'C:\\\\Users\\\\KING\\\\anaconda3\\\\lib\\\\site-packages\\\\locket-0.2.1-py3.8.egg',\n",
       " 'C:\\\\Users\\\\KING\\\\anaconda3\\\\lib\\\\site-packages\\\\win32',\n",
       " 'C:\\\\Users\\\\KING\\\\anaconda3\\\\lib\\\\site-packages\\\\win32\\\\lib',\n",
       " 'C:\\\\Users\\\\KING\\\\anaconda3\\\\lib\\\\site-packages\\\\Pythonwin',\n",
       " 'C:\\\\Users\\\\KING\\\\anaconda3\\\\lib\\\\site-packages\\\\IPython\\\\extensions',\n",
       " 'C:\\\\Users\\\\KING\\\\.ipython',\n",
       " 'F:\\\\\\\\神经网络的鲁棒性探究\\\\\\\\Adversarial_clearning']"
      ]
     },
     "execution_count": 3,
     "metadata": {},
     "output_type": "execute_result"
    }
   ],
   "source": [
    "sys.path"
   ]
  },
  {
   "cell_type": "code",
   "execution_count": 4,
   "metadata": {},
   "outputs": [],
   "source": [
    "layer_num = 4"
   ]
  },
  {
   "cell_type": "code",
   "execution_count": 5,
   "metadata": {},
   "outputs": [],
   "source": [
    "def GetAvailablePath(filepath, layer_num):\n",
    "    \n",
    "    basename,extname=os.path.splitext(filepath)\n",
    "    newPath=basename+\"_layer\"+str(layer_num)+extname\n",
    "    \n",
    "    \n",
    "    #basename,extname=os.path.splitext(filepath)\n",
    "    #count=0\n",
    "    #newPath=basename+str(count)+extname\n",
    "    #while os.path.exists(newPath):\n",
    "    #   count+=1\n",
    "    #    newPath=basename+str(count)+extname\n",
    "    return newPath\n",
    "\n",
    "def RecursiveCreatePath(filepath):\n",
    "    dirname,basename=os.path.split(filepath)\n",
    "    if not os.path.exists(dirname):\n",
    "        RecursiveCreatePath(dirname)\n",
    "    if not os.path.exists(filepath):\n",
    "        os.mkdir(filepath)"
   ]
  },
  {
   "cell_type": "code",
   "execution_count": 6,
   "metadata": {},
   "outputs": [],
   "source": [
    "attack_epsilon = 1"
   ]
  },
  {
   "cell_type": "code",
   "execution_count": 7,
   "metadata": {},
   "outputs": [],
   "source": [
    "trainData,testData=GetMnistData()\n",
    "testdataLoader=torch.utils.data.DataLoader(testData,batch_size=len(testData),shuffle=False)\n",
    "traindataLoader=torch.utils.data.DataLoader(trainData,batch_size=len(trainData),shuffle=False)"
   ]
  },
  {
   "cell_type": "code",
   "execution_count": null,
   "metadata": {},
   "outputs": [],
   "source": []
  },
  {
   "cell_type": "code",
   "execution_count": null,
   "metadata": {},
   "outputs": [],
   "source": []
  },
  {
   "cell_type": "code",
   "execution_count": 8,
   "metadata": {},
   "outputs": [],
   "source": [
    "filenames={}\n",
    "filenames['MLPModelPath']=\"./Models/mlp_layer\"+str(layer_num)+\".pt\""
   ]
  },
  {
   "cell_type": "code",
   "execution_count": 9,
   "metadata": {},
   "outputs": [],
   "source": [
    "\n",
    "filenames['rootDir']=GetAvailablePath(\"./AdversarialSamples\", layer_num)\n",
    "\n",
    "filenames['ClassifierMLPPath']=\"./Models/classifierMLP.pt\"\n",
    "filenames['TrainAdversarialPath']=GetAvailablePath(os.path.join(filenames['rootDir'],\"adversarialDataTrian-25-model.npy\"), layer_num)\n",
    "filenames['TestAdversarialPath']=GetAvailablePath(os.path.join(filenames['rootDir'],\"adversarialDataTest-25-model.npy\"), layer_num)\n",
    "\n",
    "RecursiveCreatePath(filenames['rootDir'])"
   ]
  },
  {
   "cell_type": "code",
   "execution_count": 10,
   "metadata": {},
   "outputs": [],
   "source": [
    "#filenames['TrainDataPath']=os.path.join(filenames['rootDir'],\"DataTrian-25-model.npy\"))\n",
    "#filenames['TestDataPath']=os.path.join(filenames['rootDir'],\"DataTest-25-model.npy\")\n",
    "#filenames['TrainTargetsPath']=os.path.join(filenames['rootDir'],\"TargetsTrian-25-model.npy\")\n",
    "#filenames['TestTargetsPath']=os.path.join(filenames['rootDir'],\"targetsTest-25-model.npy\")\n",
    "\n",
    "\n",
    "\n",
    "filenames['TrainDataPath']=GetAvailablePath(os.path.join(filenames['rootDir'],\"DataTrian-25-model.npy\"), layer_num)\n",
    "filenames['TestDataPath']=GetAvailablePath(os.path.join(filenames['rootDir'],\"DataTest-25-model.npy\"),layer_num)\n",
    "filenames['TrainTargetsPath']=GetAvailablePath(os.path.join(filenames['rootDir'],\"TargetsTrian-25-model.npy\"),layer_num)\n",
    "filenames['TestTargetsPath']=GetAvailablePath(os.path.join(filenames['rootDir'],\"targetsTest-25-model.npy\"), layer_num)\n"
   ]
  },
  {
   "cell_type": "code",
   "execution_count": 11,
   "metadata": {},
   "outputs": [],
   "source": [
    "mlp = torch.load(filenames['MLPModelPath'])"
   ]
  },
  {
   "cell_type": "code",
   "execution_count": 12,
   "metadata": {},
   "outputs": [
    {
     "data": {
      "text/plain": [
       "MLP(\n",
       "  (layers): ModuleList(\n",
       "    (0): Linear(in_features=784, out_features=100, bias=True)\n",
       "    (1): ReLU()\n",
       "    (2): Linear(in_features=100, out_features=100, bias=True)\n",
       "    (3): ReLU()\n",
       "    (4): Linear(in_features=100, out_features=100, bias=True)\n",
       "    (5): ReLU()\n",
       "    (6): Linear(in_features=100, out_features=100, bias=True)\n",
       "    (7): ReLU()\n",
       "  )\n",
       "  (classification): Classifier(\n",
       "    (layers): ModuleList(\n",
       "      (0): Linear(in_features=100, out_features=10, bias=True)\n",
       "    )\n",
       "  )\n",
       ")"
      ]
     },
     "execution_count": 12,
     "metadata": {},
     "output_type": "execute_result"
    }
   ],
   "source": [
    "mlp"
   ]
  },
  {
   "cell_type": "code",
   "execution_count": 13,
   "metadata": {},
   "outputs": [
    {
     "name": "stdout",
     "output_type": "stream",
     "text": [
      "Epsilon: 1\tTest Accuracy = 1243 / 60000 = 2.071667%\n",
      "Epsilon: 1\tTest Accuracy = 172 / 10000 = 1.720000%\n"
     ]
    }
   ],
   "source": [
    "train_final_acc, train_adv_data = fgsm.test(mlp,\"cpu\",traindataLoader, attack_epsilon)\n",
    "test_final_acc, test_adv_data = fgsm.test(mlp,\"cpu\",testdataLoader, attack_epsilon)"
   ]
  },
  {
   "cell_type": "code",
   "execution_count": 14,
   "metadata": {},
   "outputs": [
    {
     "data": {
      "text/plain": [
       "tensor([5, 0, 4,  ..., 5, 6, 8])"
      ]
     },
     "execution_count": 14,
     "metadata": {},
     "output_type": "execute_result"
    }
   ],
   "source": [
    "trainData.targets"
   ]
  },
  {
   "cell_type": "code",
   "execution_count": 15,
   "metadata": {},
   "outputs": [],
   "source": [
    "np.save(filenames['TrainAdversarialPath'],train_adv_data.cpu().detach().numpy())\n",
    "np.save(filenames['TestAdversarialPath'],test_adv_data.cpu().detach().numpy())"
   ]
  },
  {
   "cell_type": "code",
   "execution_count": 16,
   "metadata": {},
   "outputs": [],
   "source": [
    "np.save(filenames['TrainDataPath'],trainData.data.cpu().detach().numpy())\n",
    "np.save(filenames['TestDataPath'],testData.data.cpu().detach().numpy())"
   ]
  },
  {
   "cell_type": "code",
   "execution_count": 17,
   "metadata": {},
   "outputs": [],
   "source": [
    "np.save(filenames['TrainTargetsPath'],trainData.targets.cpu().detach().numpy())\n",
    "np.save(filenames['TestTargetsPath'],testData.targets.cpu().detach().numpy())"
   ]
  },
  {
   "cell_type": "code",
   "execution_count": null,
   "metadata": {},
   "outputs": [],
   "source": []
  },
  {
   "cell_type": "code",
   "execution_count": 18,
   "metadata": {},
   "outputs": [
    {
     "name": "stderr",
     "output_type": "stream",
     "text": [
      "<ipython-input-18-3514a93e670d>:13: UserWarning: Matplotlib is currently using module://ipykernel.pylab.backend_inline, which is a non-GUI backend, so cannot show the figure.\n",
      "  fig.show()\n"
     ]
    },
    {
     "data": {
      "image/png": "[encoded data removed]",
      "text/plain": [
       "<Figure size 1152x288 with 16 Axes>"
      ]
     },
     "metadata": {
      "needs_background": "light"
     },
     "output_type": "display_data"
    }
   ],
   "source": [
    "index=[0,1,2,3,4,5,6,7]\n",
    "fig,ax=plt.subplots(2,len(index),figsize=(2*len(index),2*2))\n",
    "adSample=train_adv_data[index]\n",
    "orignSample=(trainData.data[index])\n",
    "originLabel=trainData.targets[index]\n",
    "adLabel=torch.argmax(mlp(adSample),dim=1).cpu().detach().numpy()\n",
    "for i in range(len(index)):\n",
    "    ax[0][i].imshow(orignSample[i],cmap=\"gray\")\n",
    "    ax[1][i].imshow(adSample[i].cpu().detach().numpy().squeeze(),cmap=\"gray\")\n",
    "    ax[0][i].axis(\"off\")\n",
    "    ax[1][i].axis(\"off\")\n",
    "    ax[0][i].set_title(str(originLabel[i].item())+\"->\"+str(adLabel[i]))\n",
    "fig.show()"
   ]
  },
  {
   "cell_type": "code",
   "execution_count": 19,
   "metadata": {},
   "outputs": [
    {
     "data": {
      "text/plain": [
       "<matplotlib.image.AxesImage at 0x15e9cec4910>"
      ]
     },
     "execution_count": 19,
     "metadata": {},
     "output_type": "execute_result"
    },
    {
     "data": {
      "image/png": "[encoded data removed]",
      "text/plain": [
       "<Figure size 432x288 with 1 Axes>"
      ]
     },
     "metadata": {
      "needs_background": "light"
     },
     "output_type": "display_data"
    }
   ],
   "source": [
    "plt.imshow(train_adv_data[7].cpu().detach().numpy().squeeze(),cmap=\"gray\")"
   ]
  },
  {
   "cell_type": "code",
   "execution_count": 20,
   "metadata": {},
   "outputs": [
    {
     "name": "stdout",
     "output_type": "stream",
     "text": [
      "12\n",
      "135\n",
      "214\n",
      "378\n",
      "426\n",
      "522\n",
      "562\n",
      "632\n",
      "640\n",
      "724\n",
      "908\n",
      "994\n",
      "1245\n",
      "1264\n",
      "1301\n",
      "1313\n",
      "1322\n",
      "1332\n",
      "1345\n",
      "1373\n",
      "1395\n",
      "1397\n",
      "1417\n",
      "1466\n",
      "1629\n",
      "1649\n",
      "1692\n",
      "1845\n",
      "1911\n",
      "1979\n",
      "2000\n",
      "2004\n",
      "2007\n",
      "2014\n",
      "2027\n",
      "2031\n",
      "2069\n",
      "2073\n",
      "2133\n",
      "2145\n",
      "2147\n",
      "2165\n",
      "2229\n",
      "2253\n",
      "2279\n",
      "2319\n",
      "2354\n",
      "2380\n",
      "2401\n",
      "2433\n",
      "2489\n",
      "2650\n",
      "2743\n",
      "2750\n",
      "2867\n",
      "2881\n",
      "2891\n",
      "2905\n",
      "2917\n",
      "3250\n",
      "3531\n",
      "3578\n",
      "3599\n",
      "3659\n",
      "3705\n",
      "3747\n",
      "3798\n",
      "3846\n",
      "3894\n",
      "4077\n",
      "4191\n",
      "4194\n",
      "4234\n",
      "4254\n",
      "4472\n",
      "4477\n",
      "4480\n",
      "4497\n",
      "4513\n",
      "4515\n",
      "4519\n",
      "4545\n",
      "4549\n",
      "4591\n",
      "4618\n",
      "4647\n",
      "4683\n",
      "4709\n",
      "4719\n",
      "4765\n",
      "4841\n",
      "4867\n",
      "4888\n",
      "4984\n",
      "5027\n",
      "5032\n",
      "5182\n",
      "5300\n",
      "5312\n",
      "5318\n",
      "5332\n",
      "5380\n",
      "5385\n",
      "5387\n",
      "5407\n",
      "5433\n",
      "5461\n",
      "5579\n",
      "5639\n",
      "5652\n",
      "5995\n",
      "6013\n",
      "6025\n",
      "6028\n",
      "6053\n",
      "6109\n",
      "6119\n",
      "6131\n",
      "6167\n",
      "6173\n",
      "6201\n",
      "6215\n",
      "6253\n",
      "6280\n",
      "6283\n",
      "6297\n",
      "6299\n",
      "6351\n",
      "6386\n",
      "6429\n",
      "6507\n",
      "6519\n",
      "6527\n",
      "6569\n",
      "6650\n",
      "6878\n",
      "6882\n",
      "6968\n",
      "7001\n",
      "7008\n",
      "7038\n",
      "7046\n",
      "7085\n",
      "7096\n",
      "7120\n",
      "7165\n",
      "7236\n",
      "7332\n",
      "7334\n",
      "7362\n",
      "7382\n",
      "7408\n",
      "7418\n",
      "7608\n",
      "7841\n",
      "7849\n",
      "7878\n",
      "7887\n",
      "7892\n",
      "7899\n",
      "7915\n",
      "7985\n",
      "8002\n",
      "8091\n",
      "8245\n",
      "8337\n",
      "8342\n",
      "8462\n",
      "8516\n",
      "8553\n",
      "8561\n",
      "8567\n",
      "8573\n",
      "8621\n",
      "8627\n",
      "8667\n",
      "8808\n",
      "8901\n",
      "8946\n",
      "8991\n",
      "9023\n",
      "9037\n",
      "9111\n",
      "9172\n",
      "9231\n",
      "9297\n",
      "9303\n",
      "9327\n",
      "9343\n",
      "9388\n",
      "9416\n",
      "9426\n",
      "9502\n",
      "9510\n",
      "9515\n",
      "9544\n",
      "9553\n",
      "9565\n",
      "9589\n",
      "9600\n",
      "9649\n",
      "9660\n",
      "9781\n",
      "9850\n",
      "9883\n",
      "9886\n",
      "9905\n"
     ]
    }
   ],
   "source": [
    "for i in range(10000):\n",
    "    if int(trainData.targets[i]) == int(torch.argmax(mlp(train_adv_data[i]),dim=1).cpu().detach().numpy()):\n",
    "        print(i)"
   ]
  },
  {
   "cell_type": "code",
   "execution_count": 29,
   "metadata": {},
   "outputs": [
    {
     "data": {
      "text/plain": [
       "<matplotlib.image.AxesImage at 0x15e9d0ce490>"
      ]
     },
     "execution_count": 29,
     "metadata": {},
     "output_type": "execute_result"
    },
    {
     "data": {
      "image/png": "[encoded data removed]",
      "text/plain": [
       "<Figure size 432x288 with 1 Axes>"
      ]
     },
     "metadata": {
      "needs_background": "light"
     },
     "output_type": "display_data"
    }
   ],
   "source": [
    "plt.imshow(train_adv_data[1466].cpu().detach().numpy().squeeze(),cmap=\"gray\")"
   ]
  },
  {
   "cell_type": "code",
   "execution_count": 22,
   "metadata": {},
   "outputs": [],
   "source": [
    "mlp0 = torch.load(filenames['MLPModelPath'])"
   ]
  },
  {
   "cell_type": "code",
   "execution_count": 23,
   "metadata": {},
   "outputs": [],
   "source": [
    "output = mlp0(train_adv_data[91])"
   ]
  },
  {
   "cell_type": "code",
   "execution_count": 24,
   "metadata": {},
   "outputs": [
    {
     "data": {
      "text/plain": [
       "tensor(7)"
      ]
     },
     "execution_count": 24,
     "metadata": {},
     "output_type": "execute_result"
    }
   ],
   "source": [
    "trainData.targets[91]"
   ]
  },
  {
   "cell_type": "code",
   "execution_count": 25,
   "metadata": {},
   "outputs": [
    {
     "data": {
      "text/plain": [
       "tensor([7])"
      ]
     },
     "execution_count": 25,
     "metadata": {},
     "output_type": "execute_result"
    }
   ],
   "source": [
    "torch.tensor([trainData.targets[91]])"
   ]
  },
  {
   "cell_type": "code",
   "execution_count": null,
   "metadata": {},
   "outputs": [],
   "source": []
  },
  {
   "cell_type": "code",
   "execution_count": 26,
   "metadata": {},
   "outputs": [
    {
     "data": {
      "text/plain": [
       "tensor([[ 58.2876, -52.8286, -34.0647, -46.3733, -58.6903,  -8.5539, -33.8582,\n",
       "         -25.9546, -55.7735, -42.0082]], grad_fn=<AddmmBackward>)"
      ]
     },
     "execution_count": 26,
     "metadata": {},
     "output_type": "execute_result"
    }
   ],
   "source": [
    "output"
   ]
  },
  {
   "cell_type": "code",
   "execution_count": null,
   "metadata": {},
   "outputs": [],
   "source": []
  },
  {
   "cell_type": "code",
   "execution_count": null,
   "metadata": {},
   "outputs": [],
   "source": []
  }
 ],
 "metadata": {
  "kernelspec": {
   "display_name": "Python 3",
   "language": "python",
   "name": "python3"
  },
  "language_info": {
   "codemirror_mode": {
    "name": "ipython",
    "version": 3
   },
   "file_extension": ".py",
   "mimetype": "text/x-python",
   "name": "python",
   "nbconvert_exporter": "python",
   "pygments_lexer": "ipython3",
   "version": "3.8.8"
  }
 },
 "nbformat": 4,
 "nbformat_minor": 4
}
