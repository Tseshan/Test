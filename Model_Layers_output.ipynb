{
 "cells": [
  {
   "cell_type": "code",
   "execution_count": 1,
   "id": "be512fd0",
   "metadata": {},
   "outputs": [],
   "source": [
    "import torch\n",
    "import torch.nn as nn\n",
    "import numpy as np\n",
    "from matplotlib import pyplot as plt"
   ]
  },
  {
   "cell_type": "code",
   "execution_count": 2,
   "id": "7e379657",
   "metadata": {},
   "outputs": [],
   "source": [
    "layer_num = 5"
   ]
  },
  {
   "cell_type": "code",
   "execution_count": 3,
   "id": "190e4000",
   "metadata": {},
   "outputs": [],
   "source": [
    "MLP = torch.load(\"./Models/mlp_layer\"+str(layer_num)+\".pt\").cpu()\n",
    "simCLR = torch.load(\"./Models/simCLR_layer\"+str(layer_num)+\".pt\").cpu()"
   ]
  },
  {
   "cell_type": "code",
   "execution_count": 4,
   "id": "ded63215",
   "metadata": {
    "scrolled": true
   },
   "outputs": [
    {
     "data": {
      "text/plain": [
       "MLP(\n",
       "  (layers): ModuleList(\n",
       "    (0): Linear(in_features=784, out_features=200, bias=True)\n",
       "    (1): ReLU()\n",
       "    (2): Linear(in_features=200, out_features=200, bias=True)\n",
       "    (3): ReLU()\n",
       "    (4): Linear(in_features=200, out_features=200, bias=True)\n",
       "    (5): ReLU()\n",
       "    (6): Linear(in_features=200, out_features=150, bias=True)\n",
       "    (7): ReLU()\n",
       "    (8): Linear(in_features=150, out_features=100, bias=True)\n",
       "    (9): ReLU()\n",
       "  )\n",
       "  (classification): Classifier(\n",
       "    (layers): ModuleList(\n",
       "      (0): Linear(in_features=100, out_features=10, bias=True)\n",
       "    )\n",
       "  )\n",
       ")"
      ]
     },
     "execution_count": 4,
     "metadata": {},
     "output_type": "execute_result"
    }
   ],
   "source": [
    "MLP"
   ]
  },
  {
   "cell_type": "code",
   "execution_count": 5,
   "id": "3b3d5f4c",
   "metadata": {},
   "outputs": [
    {
     "data": {
      "text/plain": [
       "FullMLP(\n",
       "  (extractor): SimCLR(\n",
       "    (baseModel): MLP_extractor(\n",
       "      (layers): ModuleList(\n",
       "        (0): Linear(in_features=784, out_features=200, bias=True)\n",
       "        (1): ReLU()\n",
       "        (2): Linear(in_features=200, out_features=200, bias=True)\n",
       "        (3): ReLU()\n",
       "        (4): Linear(in_features=200, out_features=200, bias=True)\n",
       "        (5): ReLU()\n",
       "        (6): Linear(in_features=200, out_features=150, bias=True)\n",
       "        (7): ReLU()\n",
       "        (8): Linear(in_features=150, out_features=100, bias=True)\n",
       "      )\n",
       "    )\n",
       "  )\n",
       "  (layers): ReLU()\n",
       "  (classifier): Classifier(\n",
       "    (layers): ModuleList(\n",
       "      (0): Linear(in_features=100, out_features=10, bias=True)\n",
       "    )\n",
       "  )\n",
       ")"
      ]
     },
     "execution_count": 5,
     "metadata": {},
     "output_type": "execute_result"
    }
   ],
   "source": [
    "simCLR"
   ]
  },
  {
   "cell_type": "code",
   "execution_count": 6,
   "id": "59d32993",
   "metadata": {},
   "outputs": [],
   "source": [
    "adData_Test = np.load(\"./AdversarialSamples0/adversarialDataTest-25-model0.npy\")\n",
    "adData_Train= np.load(\"./AdversarialSamples0/adversarialDataTrian-25-model0.npy\") "
   ]
  },
  {
   "cell_type": "code",
   "execution_count": 7,
   "id": "119ce14a",
   "metadata": {},
   "outputs": [],
   "source": [
    "Data_Test = np.load(\"./AdversarialSamples0/DataTest-25-model0.npy\")\n",
    "Data_Train= np.load(\"./AdversarialSamples0/DataTrian-25-model0.npy\") "
   ]
  },
  {
   "cell_type": "code",
   "execution_count": 8,
   "id": "bade067a",
   "metadata": {},
   "outputs": [
    {
     "data": {
      "text/plain": [
       "(28, 28)"
      ]
     },
     "execution_count": 8,
     "metadata": {},
     "output_type": "execute_result"
    }
   ],
   "source": [
    "adData_Test[0][0].shape"
   ]
  },
  {
   "cell_type": "code",
   "execution_count": 9,
   "id": "91fa8eef",
   "metadata": {},
   "outputs": [
    {
     "data": {
      "image/png": "[encoded data removed]",
      "text/plain": [
       "<Figure size 1440x288 with 20 Axes>"
      ]
     },
     "metadata": {
      "needs_background": "light"
     },
     "output_type": "display_data"
    }
   ],
   "source": [
    "index=[1,3,16,12,2,35,18,15,17,19]\n",
    "fig=plt.figure(figsize=(2*len(index),2*2))\n",
    "axes=fig.subplots(2,len(index))\n",
    "step=0\n",
    "features=[]\n",
    "for i in range(len(index)):\n",
    "    axes[0][i].imshow(Data_Test[i])\n",
    "    axes[1][i].imshow(adData_Test[i][0])\n",
    "        #features.append(simCLR(sample[i]))\n",
    "        #features.append(simCLR(adData[i]))\n",
    "        # step+=1\n",
    "        #axes[0][i].axis(\"off\")\n",
    "        #axes[1][i].axis(\"off\")\n",
    "plt.show()"
   ]
  },
  {
   "cell_type": "code",
   "execution_count": 10,
   "id": "624da830",
   "metadata": {},
   "outputs": [],
   "source": [
    "#for name in simCLR.state_dict():\n",
    " #   print(name)"
   ]
  },
  {
   "cell_type": "code",
   "execution_count": 11,
   "id": "33d5e56a",
   "metadata": {},
   "outputs": [],
   "source": [
    "#params = {}"
   ]
  },
  {
   "cell_type": "code",
   "execution_count": 12,
   "id": "cfac3440",
   "metadata": {},
   "outputs": [],
   "source": [
    "#for name,param in MLP.named_parameters():\n",
    " #   print(name, param)"
   ]
  },
  {
   "cell_type": "code",
   "execution_count": 13,
   "id": "9ab0cff9",
   "metadata": {},
   "outputs": [
    {
     "data": {
      "text/plain": [
       "MLP(\n",
       "  (layers): ModuleList(\n",
       "    (0): Linear(in_features=784, out_features=200, bias=True)\n",
       "    (1): ReLU()\n",
       "    (2): Linear(in_features=200, out_features=200, bias=True)\n",
       "    (3): ReLU()\n",
       "    (4): Linear(in_features=200, out_features=200, bias=True)\n",
       "    (5): ReLU()\n",
       "    (6): Linear(in_features=200, out_features=150, bias=True)\n",
       "    (7): ReLU()\n",
       "    (8): Linear(in_features=150, out_features=100, bias=True)\n",
       "    (9): ReLU()\n",
       "  )\n",
       "  (classification): Classifier(\n",
       "    (layers): ModuleList(\n",
       "      (0): Linear(in_features=100, out_features=10, bias=True)\n",
       "    )\n",
       "  )\n",
       ")"
      ]
     },
     "execution_count": 13,
     "metadata": {},
     "output_type": "execute_result"
    }
   ],
   "source": [
    "MLP"
   ]
  },
  {
   "cell_type": "code",
   "execution_count": 14,
   "id": "4de5d033",
   "metadata": {},
   "outputs": [],
   "source": [
    "#MLP_extract_output = nn.Sequential(*list(MLP.children())[0])\n",
    "#MLP_layer1 = nn.Sequential(list(MLP_extract_output.children())[0],list(MLP_extract_output.children())[1])\n",
    "#MLP_layer2 = nn.Sequential(list(MLP_extract_output.children())[0],list(MLP_extract_output.children())[1],list(MLP_extract_output.children())[2],list(MLP_extract_output.children())[3])\n",
    "#MLP_layer3 = nn.Sequential(list(MLP_extract_output.children())[0],list(MLP_extract_output.children())[1],list(MLP_extract_output.children())[2],list(MLP_extract_output.children())[3],list(MLP_extract_output.children())[4],list(MLP_extract_output.children())[5])\n",
    "\n",
    "#MLP_layer4 = nn.Sequential(list(MLP_extract_output.children())[0],list(MLP_extract_output.children())[1],list(MLP_extract_output.children())[2],list(MLP_extract_output.children())[3],list(MLP_extract_output.children())[4],list(MLP_extract_output.children())[5], list(MLP_extract_output.children())[6],list(MLP_extract_output.children())[7])\n"
   ]
  },
  {
   "cell_type": "code",
   "execution_count": 15,
   "id": "b06fa0b7",
   "metadata": {},
   "outputs": [],
   "source": [
    "MLP_extract_output = nn.Sequential(*list(MLP.children())[0])\n",
    "for i in range (0,len(list(MLP_extract_output.children())),2):\n",
    "    if i == 0:\n",
    "        MLP_layer = nn.Sequential(list(MLP_extract_output.children())[i],list(MLP_extract_output.children())[i+1])\n",
    "        torch.save(nn.Sequential(list(MLP_extract_output.children())[i],list(MLP_extract_output.children())[i+1]),\"./Feature_model/MLP_Layer\"+str(int(i/2))+\".pt\")\n",
    "\n",
    "    else:\n",
    "        torch.save(nn.Sequential(MLP_layer, list(MLP_extract_output.children())[i],list(MLP_extract_output.children())[i+1]),\"./Feature_model/MLP_Layer\"+str(int(i/2))+\".pt\")\n",
    "        MLP_layer = nn.Sequential(MLP_layer, list(MLP_extract_output.children())[i],list(MLP_extract_output.children())[i+1])"
   ]
  },
  {
   "cell_type": "code",
   "execution_count": 16,
   "id": "c9dd5fae",
   "metadata": {},
   "outputs": [
    {
     "data": {
      "text/plain": [
       "10"
      ]
     },
     "execution_count": 16,
     "metadata": {},
     "output_type": "execute_result"
    }
   ],
   "source": [
    "len(list(MLP_extract_output.children()))"
   ]
  },
  {
   "cell_type": "code",
   "execution_count": 17,
   "id": "34f4cd2a",
   "metadata": {},
   "outputs": [
    {
     "data": {
      "text/plain": [
       "FullMLP(\n",
       "  (extractor): SimCLR(\n",
       "    (baseModel): MLP_extractor(\n",
       "      (layers): ModuleList(\n",
       "        (0): Linear(in_features=784, out_features=200, bias=True)\n",
       "        (1): ReLU()\n",
       "        (2): Linear(in_features=200, out_features=200, bias=True)\n",
       "        (3): ReLU()\n",
       "        (4): Linear(in_features=200, out_features=200, bias=True)\n",
       "        (5): ReLU()\n",
       "        (6): Linear(in_features=200, out_features=150, bias=True)\n",
       "        (7): ReLU()\n",
       "        (8): Linear(in_features=150, out_features=100, bias=True)\n",
       "      )\n",
       "    )\n",
       "  )\n",
       "  (layers): ReLU()\n",
       "  (classifier): Classifier(\n",
       "    (layers): ModuleList(\n",
       "      (0): Linear(in_features=100, out_features=10, bias=True)\n",
       "    )\n",
       "  )\n",
       ")"
      ]
     },
     "execution_count": 17,
     "metadata": {},
     "output_type": "execute_result"
    }
   ],
   "source": [
    "simCLR"
   ]
  },
  {
   "cell_type": "code",
   "execution_count": 18,
   "id": "c9d2dfce",
   "metadata": {},
   "outputs": [],
   "source": [
    "#list(simCLR.children())[0]"
   ]
  },
  {
   "cell_type": "code",
   "execution_count": 19,
   "id": "9a67ea21",
   "metadata": {
    "scrolled": true
   },
   "outputs": [],
   "source": [
    "#a = list(list(simCLR.children())[0].children())[0]"
   ]
  },
  {
   "cell_type": "code",
   "execution_count": 20,
   "id": "d5e85d51",
   "metadata": {
    "scrolled": true
   },
   "outputs": [],
   "source": [
    "#list(list(list(SimCLR_extract_output.children())[0].children())[0].children())"
   ]
  },
  {
   "cell_type": "code",
   "execution_count": 21,
   "id": "a3af5b60",
   "metadata": {},
   "outputs": [],
   "source": [
    "#SimCLR_extract_output = list(simCLR.children())[0]\n",
    "#SimCLR_layer1 = nn.Sequential(list(list(list(SimCLR_extract_output.children())[0].children())[0].children())[0],list(list(list(SimCLR_extract_output.children())[0].children())[0].children())[1])\n",
    "#SimCLR_layer2 = nn.Sequential(list(list(list(SimCLR_extract_output.children())[0].children())[0].children())[0],list(list(list(SimCLR_extract_output.children())[0].children())[0].children())[1],list(list(list(SimCLR_extract_output.children())[0].children())[0].children())[2],list(list(list(SimCLR_extract_output.children())[0].children())[0].children())[3])\n",
    "#SimCLR_layer3 = nn.Sequential(list(list(list(SimCLR_extract_output.children())[0].children())[0].children())[0],list(list(list(SimCLR_extract_output.children())[0].children())[0].children())[1],list(list(list(SimCLR_extract_output.children())[0].children())[0].children())[2],list(list(list(SimCLR_extract_output.children())[0].children())[0].children())[3],list(list(list(SimCLR_extract_output.children())[0].children())[0].children())[4],list(list(list(SimCLR_extract_output.children())[0].children())[0].children())[5])\n",
    "#SimCLR_layer4 = nn.Sequential(list(list(list(SimCLR_extract_output.children())[0].children())[0].children())[0],list(list(list(SimCLR_extract_output.children())[0].children())[0].children())[1],list(list(list(SimCLR_extract_output.children())[0].children())[0].children())[2],list(list(list(SimCLR_extract_output.children())[0].children())[0].children())[3],list(list(list(SimCLR_extract_output.children())[0].children())[0].children())[4],list(list(list(SimCLR_extract_output.children())[0].children())[0].children())[5],list(list(list(SimCLR_extract_output.children())[0].children())[0].children())[6],list(simCLR.children())[1])"
   ]
  },
  {
   "cell_type": "code",
   "execution_count": 22,
   "id": "2da4bbfc",
   "metadata": {},
   "outputs": [],
   "source": [
    "SimCLR_extract_output = list(simCLR.children())[0]\n",
    "SimCLR_Layer_List = list(list(list(SimCLR_extract_output.children())[0].children())[0].children())\n",
    "#SimCLR_layer1 = nn.Sequential(list(SimCLR_Layer_List)[0])\n",
    "for i in range(0, len(SimCLR_Layer_List), 2):\n",
    "    if i == 0:\n",
    "        SimCLR_layer = nn.Sequential(SimCLR_Layer_List[i],SimCLR_Layer_List[i+1])\n",
    "        torch.save(nn.Sequential(SimCLR_Layer_List[i],SimCLR_Layer_List[i+1]),\"./Feature_model/SimCLR_Layer\"+str(int(i/2))+\".pt\")\n",
    "\n",
    "    elif i == (len(SimCLR_Layer_List)-1):\n",
    "        torch.save(nn.Sequential(SimCLR_layer, SimCLR_Layer_List[i],list(simCLR.children())[1]),\"./Feature_model/SimCLR_Layer\"+str(int(i/2))+\".pt\")\n",
    "        SimCLR_layer = nn.Sequential(SimCLR_layer, SimCLR_Layer_List[i],list(simCLR.children())[1])\n",
    "    \n",
    "    else:\n",
    "        torch.save(nn.Sequential(SimCLR_layer, SimCLR_Layer_List[i],SimCLR_Layer_List[i+1]),\"./Feature_model/SimCLR_Layer\"+str(int(i/2))+\".pt\")\n",
    "        SimCLR_layer = nn.Sequential(SimCLR_layer, SimCLR_Layer_List[i],SimCLR_Layer_List[i+1])"
   ]
  },
  {
   "cell_type": "code",
   "execution_count": 23,
   "id": "9af0f40c",
   "metadata": {},
   "outputs": [],
   "source": [
    "#layers_sum = int(len(list(MLP_extract_output.children()))/2)"
   ]
  },
  {
   "cell_type": "markdown",
   "id": "402e68bb",
   "metadata": {},
   "source": [
    "# AdTest数据_SimCLR"
   ]
  },
  {
   "cell_type": "code",
   "execution_count": 24,
   "id": "70d58db1",
   "metadata": {},
   "outputs": [],
   "source": [
    "adData_Test = torch.Tensor(adData_Test)"
   ]
  },
  {
   "cell_type": "code",
   "execution_count": 25,
   "id": "f0865548",
   "metadata": {},
   "outputs": [
    {
     "data": {
      "text/plain": [
       "torch.Size([10000, 784])"
      ]
     },
     "execution_count": 25,
     "metadata": {},
     "output_type": "execute_result"
    }
   ],
   "source": [
    "adData_Test.view(adData_Test.size(0), -1).size()"
   ]
  },
  {
   "cell_type": "code",
   "execution_count": 26,
   "id": "d6517aa2",
   "metadata": {},
   "outputs": [],
   "source": [
    "Data_Test = torch.Tensor(Data_Test)/255"
   ]
  },
  {
   "cell_type": "code",
   "execution_count": 27,
   "id": "7bcad0ae",
   "metadata": {
    "scrolled": true
   },
   "outputs": [],
   "source": [
    "for i in range(layer_num):\n",
    "    SimCLR_Layer_model = torch.load(\"./Feature_model/SimCLR_Layer\"+str(i)+\".pt\")\n",
    "    \n",
    "    adtest_simclr_layer = SimCLR_Layer_model(adData_Test.view(adData_Test.size(0), -1))\n",
    "    np.save(\"./AdTest_SimCLR_Layers\"+str(layer_num)+\"_output/Layer\"+str(i)+\".npy\", adtest_simclr_layer.cpu().detach().numpy())\n",
    "    \n",
    "    test_simclr_layer = SimCLR_Layer_model(Data_Test.view(Data_Test.size(0), -1))\n",
    "    np.save(\"./Test_SimCLR_Layers\"+str(layer_num)+\"_output/Layer\"+str(i)+\".npy\", test_simclr_layer.cpu().detach().numpy())\n",
    "    \n",
    "    \n",
    "    \n",
    "    \n",
    "    MLP_Layer_model = torch.load(\"./Feature_model/MLP_Layer\"+str(i)+\".pt\")\n",
    "    \n",
    "    adtest_mlp_layer = MLP_Layer_model(adData_Test.view(adData_Test.size(0), -1))\n",
    "    np.save(\"./AdTest_MLP_Layers\"+str(layer_num)+\"_output/Layer\"+str(i)+\".npy\", adtest_mlp_layer.cpu().detach().numpy())\n",
    "    \n",
    "    test_mlp_layer = MLP_Layer_model(Data_Test.view(Data_Test.size(0), -1))\n",
    "    np.save(\"./Test_MLP_Layers\"+str(layer_num)+\"_output/Layer\"+str(i)+\".npy\", test_mlp_layer.cpu().detach().numpy())\n",
    "    \n",
    "    \n",
    "    \n",
    "    "
   ]
  },
  {
   "cell_type": "code",
   "execution_count": 28,
   "id": "5a5be6f7",
   "metadata": {},
   "outputs": [],
   "source": [
    "#adtest_simclr_layer1 = SimCLR_layer1(adData_Test.view(adData_Test.size(0), -1))\n",
    "#adtest_simclr_layer2 = SimCLR_layer2(adData_Test.view(adData_Test.size(0), -1))\n",
    "#adtest_simclr_layer3 = SimCLR_layer3(adData_Test.view(adData_Test.size(0), -1))\n",
    "#adtest_simclr_layer4 = SimCLR_layer4(adData_Test.view(adData_Test.size(0), -1))"
   ]
  },
  {
   "cell_type": "code",
   "execution_count": 29,
   "id": "6cd00cc1",
   "metadata": {},
   "outputs": [],
   "source": [
    "#np.save(\"./AdTest_SimCLR_Layers_output/H_Layer1.npy\", adtest_simclr_layer1.cpu().detach().numpy())\n",
    "#np.save(\"./AdTest_SimCLR_Layers_output/H_Layer2.npy\", adtest_simclr_layer2.cpu().detach().numpy())\n",
    "#np.save(\"./AdTest_SimCLR_Layers_output/H_Layer3.npy\", adtest_simclr_layer3.cpu().detach().numpy())\n",
    "#np.save(\"./AdTest_SimCLR_Layers_output/H_Layer4.npy\", adtest_simclr_layer4.cpu().detach().numpy())"
   ]
  },
  {
   "cell_type": "markdown",
   "id": "52bb16a7",
   "metadata": {},
   "source": [
    "# AdTest数据_MLP"
   ]
  },
  {
   "cell_type": "code",
   "execution_count": 30,
   "id": "df3f512c",
   "metadata": {},
   "outputs": [],
   "source": [
    "#for i in range(layers_sum):\n",
    "#    MLP_Layer_model = torch.load(\"./Feature_model/MLP_Layer\"+str(i)+\".pt\")\n",
    "#    adtest_mlp_layer = MLP_Layer_model(adData_Test.view(adData_Test.size(0), -1))\n",
    "#    np.save(\"./AdTest_MLP_Layers_output/Layer\"+str(i)+\".npy\", adtest_mlp_layer.cpu().detach().numpy())"
   ]
  },
  {
   "cell_type": "code",
   "execution_count": 31,
   "id": "86d712ac",
   "metadata": {},
   "outputs": [],
   "source": [
    "#adtest_mlp_layer1 = MLP_layer1(adData_Test.view(adData_Test.size(0), -1))\n",
    "#adtest_mlp_layer2 = MLP_layer2(adData_Test.view(adData_Test.size(0), -1))\n",
    "#adtest_mlp_layer3 = MLP_layer3(adData_Test.view(adData_Test.size(0), -1))\n",
    "#adtest_mlp_layer4 = MLP_layer4(adData_Test.view(adData_Test.size(0), -1))"
   ]
  },
  {
   "cell_type": "code",
   "execution_count": 32,
   "id": "53bdf94a",
   "metadata": {},
   "outputs": [],
   "source": [
    "#np.save(\"./AdTest_MLP_Layers_output/H_Layer1.npy\", adtest_mlp_layer1.cpu().detach().numpy())\n",
    "#np.save(\"./AdTest_MLP_Layers_output/H_Layer2.npy\", adtest_mlp_layer2.cpu().detach().numpy())\n",
    "#np.save(\"./AdTest_MLP_Layers_output/H_Layer3.npy\", adtest_mlp_layer3.cpu().detach().numpy())\n",
    "#np.save(\"./AdTest_MLP_Layers_output/H_Layer4.npy\", adtest_mlp_layer4.cpu().detach().numpy())"
   ]
  },
  {
   "cell_type": "markdown",
   "id": "216c64fa",
   "metadata": {},
   "source": [
    "# Test数据_SimCLR"
   ]
  },
  {
   "cell_type": "code",
   "execution_count": 33,
   "id": "d685661a",
   "metadata": {},
   "outputs": [],
   "source": [
    "#for i in range(layers_sum):\n",
    "#    SimCLR_Layer_model = torch.load(\"./Feature_model/SimCLR_Layer\"+str(i)+\".pt\")\n",
    "    \n",
    "    \n",
    "#    test_simclr_layer = SimCLR_Layer_model(Data_Test.view(Data_Test.size(0), -1))\n",
    "#    np.save(\"./Test_SimCLR_Layers_output/Layer\"+str(i)+\".npy\", test_simclr_layer.cpu().detach().numpy())"
   ]
  },
  {
   "cell_type": "code",
   "execution_count": 34,
   "id": "c136f79d",
   "metadata": {},
   "outputs": [],
   "source": [
    "#test_simclr_layer1 = SimCLR_layer1(Data_Test.view(Data_Test.size(0), -1))\n",
    "#test_simclr_layer2 = SimCLR_layer2(Data_Test.view(Data_Test.size(0), -1))\n",
    "#test_simclr_layer3 = SimCLR_layer3(Data_Test.view(Data_Test.size(0), -1))\n",
    "#test_simclr_layer4 = SimCLR_layer4(Data_Test.view(Data_Test.size(0), -1))"
   ]
  },
  {
   "cell_type": "code",
   "execution_count": 35,
   "id": "fd36297b",
   "metadata": {},
   "outputs": [],
   "source": [
    "#np.save(\"./Test_SimCLR_Layers_output/H_Layer1.npy\", test_simclr_layer1.cpu().detach().numpy())\n",
    "#np.save(\"./Test_SimCLR_Layers_output/H_Layer2.npy\", test_simclr_layer2.cpu().detach().numpy())\n",
    "#np.save(\"./Test_SimCLR_Layers_output/H_Layer3.npy\", test_simclr_layer3.cpu().detach().numpy())\n",
    "#np.save(\"./Test_SimCLR_Layers_output/H_Layer4.npy\", test_simclr_layer4.cpu().detach().numpy())"
   ]
  },
  {
   "cell_type": "markdown",
   "id": "171e5993",
   "metadata": {},
   "source": [
    "# Test数据_MLP"
   ]
  },
  {
   "cell_type": "code",
   "execution_count": 36,
   "id": "f935832e",
   "metadata": {},
   "outputs": [],
   "source": [
    "#for i in range(layers_sum):\n",
    "#    MLP_Layer_model = torch.load(\"./Feature_model/MLP_Layer\"+str(i)+\".pt\")\n",
    "#    test_mlp_layer = MLP_Layer_model(Data_Test.view(Data_Test.size(0), -1))\n",
    "#    np.save(\"./Test_MLP_Layers_output/Layer\"+str(i)+\".npy\", test_mlp_layer.cpu().detach().numpy())"
   ]
  },
  {
   "cell_type": "code",
   "execution_count": 37,
   "id": "871f3e36",
   "metadata": {},
   "outputs": [],
   "source": [
    "#test_mlp_layer1 = MLP_layer1(Data_Test.view(Data_Test.size(0), -1))\n",
    "#test_mlp_layer2 = MLP_layer2(Data_Test.view(Data_Test.size(0), -1))\n",
    "#test_mlp_layer3 = MLP_layer3(Data_Test.view(Data_Test.size(0), -1))\n",
    "#test_mlp_layer4 = MLP_layer4(Data_Test.view(Data_Test.size(0), -1))"
   ]
  },
  {
   "cell_type": "code",
   "execution_count": 38,
   "id": "0ce41b61",
   "metadata": {},
   "outputs": [],
   "source": [
    "#np.save(\"./Test_MLP_Layers_output/H_Layer1.npy\", test_mlp_layer1.cpu().detach().numpy())\n",
    "#np.save(\"./Test_MLP_Layers_output/H_Layer2.npy\", test_mlp_layer2.cpu().detach().numpy())\n",
    "#np.save(\"./Test_MLP_Layers_output/H_Layer3.npy\", test_mlp_layer3.cpu().detach().numpy())\n",
    "#np.save(\"./Test_MLP_Layers_output/H_Layer4.npy\", test_mlp_layer4.cpu().detach().numpy())"
   ]
  },
  {
   "cell_type": "code",
   "execution_count": 39,
   "id": "aaa28c17",
   "metadata": {},
   "outputs": [],
   "source": [
    "#np.load(\"./AdTest_MLP_Layers_output/H_Layer4.npy\")"
   ]
  },
  {
   "cell_type": "code",
   "execution_count": 40,
   "id": "2954c5dc",
   "metadata": {},
   "outputs": [],
   "source": [
    "#np.load(\"./AdTest_MLP_Layers_output/Layer3.npy\")"
   ]
  },
  {
   "cell_type": "code",
   "execution_count": null,
   "id": "5f24d719",
   "metadata": {},
   "outputs": [],
   "source": []
  }
 ],
 "metadata": {
  "kernelspec": {
   "display_name": "Python 3",
   "language": "python",
   "name": "python3"
  },
  "language_info": {
   "codemirror_mode": {
    "name": "ipython",
    "version": 3
   },
   "file_extension": ".py",
   "mimetype": "text/x-python",
   "name": "python",
   "nbconvert_exporter": "python",
   "pygments_lexer": "ipython3",
   "version": "3.8.8"
  }
 },
 "nbformat": 4,
 "nbformat_minor": 5
}
