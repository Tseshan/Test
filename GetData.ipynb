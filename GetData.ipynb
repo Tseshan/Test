{
 "cells": [
  {
   "cell_type": "code",
   "execution_count": 4,
   "metadata": {},
   "outputs": [],
   "source": [
    "from torchvision import datasets\n",
    "import torch\n",
    "from torchvision.transforms import transforms\n",
    "import numpy as np\n",
    "from data.New_Dataset import*\n",
    "\n",
    "def GetMnistData():\n",
    "    #读取数据\n",
    "    train_data = datasets.MNIST(root=\"./data\", train=True, download=True,transform=transforms.ToTensor())\n",
    "    test_data = datasets.MNIST(root=\"./data\", train=False, download=True, transform=transforms.ToTensor())\n",
    "    return train_data,test_data\n",
    "def GetDataLoader(train_data,test_data,batch_size):\n",
    "    #创建数据加载器\n",
    "    train_loader = torch.utils.data.DataLoader(train_data, batch_size = batch_size, num_workers = 0)\n",
    "    test_loader = torch.utils.data.DataLoader(test_data, batch_size = batch_size, num_workers = 0)\n",
    "    return train_loader,test_loader"
   ]
  },
  {
   "cell_type": "code",
   "execution_count": 1,
   "metadata": {},
   "outputs": [],
   "source": [
    "def Get_New_MnistData(train_path1,train_target_path2,adtrain_path3,test_path1,test_target_path2,adtest_path3):\n",
    "    #读取数据\n",
    "    new_train_data = NewData(train_path1,train_target_path2,adtrain_path3)\n",
    "    new_test_data =  NewData(test_path1,test_target_path2,adtest_path3)\n",
    "    return new_train_data,new_test_data\n"
   ]
  },
  {
   "cell_type": "code",
   "execution_count": null,
   "metadata": {},
   "outputs": [],
   "source": [
    "def Get_New_MnistData_orgin(train_path1,train_target_path2,test_path1,test_target_path2):\n",
    "    #读取数据\n",
    "    new_train_data = NewData_orgin(train_path1,train_target_path2)\n",
    "    new_test_data =  NewData_orgin(test_path1,test_target_path2)\n",
    "    return new_train_data,new_test_data\n"
   ]
  },
  {
   "cell_type": "code",
   "execution_count": null,
   "metadata": {},
   "outputs": [],
   "source": []
  },
  {
   "cell_type": "code",
   "execution_count": null,
   "metadata": {},
   "outputs": [],
   "source": []
  }
 ],
 "metadata": {
  "kernelspec": {
   "display_name": "Python 3",
   "language": "python",
   "name": "python3"
  },
  "language_info": {
   "codemirror_mode": {
    "name": "ipython",
    "version": 3
   },
   "file_extension": ".py",
   "mimetype": "text/x-python",
   "name": "python",
   "nbconvert_exporter": "python",
   "pygments_lexer": "ipython3",
   "version": "3.8.8"
  }
 },
 "nbformat": 4,
 "nbformat_minor": 4
}
