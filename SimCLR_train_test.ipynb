{
 "cells": [
  {
   "cell_type": "code",
   "execution_count": 1,
   "metadata": {},
   "outputs": [],
   "source": [
    "import sys\n",
    "sys.path.append(r'F:\\神经网络的鲁棒性探究\\Model_package')"
   ]
  },
  {
   "cell_type": "code",
   "execution_count": 2,
   "metadata": {},
   "outputs": [
    {
     "name": "stdout",
     "output_type": "stream",
     "text": [
      "['F:\\\\神经网络的鲁棒性探究', 'C:\\\\Users\\\\KING\\\\anaconda3\\\\python38.zip', 'C:\\\\Users\\\\KING\\\\anaconda3\\\\DLLs', 'C:\\\\Users\\\\KING\\\\anaconda3\\\\lib', 'C:\\\\Users\\\\KING\\\\anaconda3', '', 'C:\\\\Users\\\\KING\\\\anaconda3\\\\lib\\\\site-packages', 'C:\\\\Users\\\\KING\\\\anaconda3\\\\lib\\\\site-packages\\\\locket-0.2.1-py3.8.egg', 'C:\\\\Users\\\\KING\\\\anaconda3\\\\lib\\\\site-packages\\\\win32', 'C:\\\\Users\\\\KING\\\\anaconda3\\\\lib\\\\site-packages\\\\win32\\\\lib', 'C:\\\\Users\\\\KING\\\\anaconda3\\\\lib\\\\site-packages\\\\Pythonwin', 'C:\\\\Users\\\\KING\\\\anaconda3\\\\lib\\\\site-packages\\\\IPython\\\\extensions', 'C:\\\\Users\\\\KING\\\\.ipython', 'F:\\\\神经网络的鲁棒性探究\\\\Model_package', 'F:\\\\神经网络的鲁棒性探究\\\\Model_package', 'F:\\\\神经网络的鲁棒性探究\\\\Model_package']\n",
      "['F:\\\\神经网络的鲁棒性探究', 'C:\\\\Users\\\\KING\\\\anaconda3\\\\python38.zip', 'C:\\\\Users\\\\KING\\\\anaconda3\\\\DLLs', 'C:\\\\Users\\\\KING\\\\anaconda3\\\\lib', 'C:\\\\Users\\\\KING\\\\anaconda3', '', 'C:\\\\Users\\\\KING\\\\anaconda3\\\\lib\\\\site-packages', 'C:\\\\Users\\\\KING\\\\anaconda3\\\\lib\\\\site-packages\\\\locket-0.2.1-py3.8.egg', 'C:\\\\Users\\\\KING\\\\anaconda3\\\\lib\\\\site-packages\\\\win32', 'C:\\\\Users\\\\KING\\\\anaconda3\\\\lib\\\\site-packages\\\\win32\\\\lib', 'C:\\\\Users\\\\KING\\\\anaconda3\\\\lib\\\\site-packages\\\\Pythonwin', 'C:\\\\Users\\\\KING\\\\anaconda3\\\\lib\\\\site-packages\\\\IPython\\\\extensions', 'C:\\\\Users\\\\KING\\\\.ipython', 'F:\\\\神经网络的鲁棒性探究\\\\Model_package', 'F:\\\\神经网络的鲁棒性探究\\\\Model_package', 'F:\\\\神经网络的鲁棒性探究\\\\Model_package']\n"
     ]
    }
   ],
   "source": [
    "import torch\n",
    "import torch.nn as nn\n",
    "from Model_package.SimCLR.SimCLR import SimCLR\n",
    "from Trainers.SimCLRTrainner import*\n",
    "from  Trainers.ClassifierTrainner import*\n",
    "\n",
    "from Model_package.MLP.MLP_extractor import*\n",
    "from Model_package.FullModel.FullModel import*\n",
    "from GetData import*\n",
    "from matplotlib import pyplot as plt\n",
    "from Model_package.Utilites import*"
   ]
  },
  {
   "cell_type": "code",
   "execution_count": 3,
   "metadata": {},
   "outputs": [],
   "source": [
    "layer_num = 4"
   ]
  },
  {
   "cell_type": "code",
   "execution_count": 4,
   "metadata": {},
   "outputs": [],
   "source": [
    "MLP = torch.load(\"./Models/mlp_layer\"+str(layer_num)+\".pt\").cpu()"
   ]
  },
  {
   "cell_type": "code",
   "execution_count": 5,
   "metadata": {},
   "outputs": [
    {
     "data": {
      "text/plain": [
       "MLP(\n",
       "  (layers): ModuleList(\n",
       "    (0): Linear(in_features=784, out_features=100, bias=True)\n",
       "    (1): ReLU()\n",
       "    (2): Linear(in_features=100, out_features=100, bias=True)\n",
       "    (3): ReLU()\n",
       "    (4): Linear(in_features=100, out_features=100, bias=True)\n",
       "    (5): ReLU()\n",
       "    (6): Linear(in_features=100, out_features=100, bias=True)\n",
       "    (7): ReLU()\n",
       "  )\n",
       "  (classification): Classifier(\n",
       "    (layers): ModuleList(\n",
       "      (0): Linear(in_features=100, out_features=10, bias=True)\n",
       "    )\n",
       "  )\n",
       ")"
      ]
     },
     "execution_count": 5,
     "metadata": {},
     "output_type": "execute_result"
    }
   ],
   "source": [
    "MLP"
   ]
  },
  {
   "cell_type": "code",
   "execution_count": 6,
   "metadata": {},
   "outputs": [],
   "source": [
    "mlp_extractor = MLP_extractor(28*28).cpu()\n",
    "torch.save(mlp_extractor,\"./Models/mlp_extractor_initial.pt\")"
   ]
  },
  {
   "cell_type": "code",
   "execution_count": 7,
   "metadata": {},
   "outputs": [
    {
     "data": {
      "text/plain": [
       "MLP_extractor(\n",
       "  (layers): ModuleList(\n",
       "    (0): Linear(in_features=784, out_features=100, bias=True)\n",
       "    (1): ReLU()\n",
       "    (2): Linear(in_features=100, out_features=100, bias=True)\n",
       "    (3): ReLU()\n",
       "    (4): Linear(in_features=100, out_features=100, bias=True)\n",
       "    (5): ReLU()\n",
       "    (6): Linear(in_features=100, out_features=100, bias=True)\n",
       "  )\n",
       ")"
      ]
     },
     "execution_count": 7,
     "metadata": {},
     "output_type": "execute_result"
    }
   ],
   "source": [
    "mlp_extractor"
   ]
  },
  {
   "cell_type": "code",
   "execution_count": 8,
   "metadata": {},
   "outputs": [],
   "source": [
    "simCLR_extractor=SimCLR(\"./Models/mlp_extractor_initial.pt\").cpu()"
   ]
  },
  {
   "cell_type": "code",
   "execution_count": 9,
   "metadata": {},
   "outputs": [],
   "source": [
    "simCLR_classifier = torch.load(\"./Models/classifier.pt\").cpu()"
   ]
  },
  {
   "cell_type": "code",
   "execution_count": 10,
   "metadata": {},
   "outputs": [],
   "source": [
    "simCLR = FullMLP(simCLR_extractor,simCLR_classifier)\n"
   ]
  },
  {
   "cell_type": "code",
   "execution_count": 11,
   "metadata": {},
   "outputs": [
    {
     "data": {
      "text/plain": [
       "FullMLP(\n",
       "  (extractor): SimCLR(\n",
       "    (baseModel): MLP_extractor(\n",
       "      (layers): ModuleList(\n",
       "        (0): Linear(in_features=784, out_features=100, bias=True)\n",
       "        (1): ReLU()\n",
       "        (2): Linear(in_features=100, out_features=100, bias=True)\n",
       "        (3): ReLU()\n",
       "        (4): Linear(in_features=100, out_features=100, bias=True)\n",
       "        (5): ReLU()\n",
       "        (6): Linear(in_features=100, out_features=100, bias=True)\n",
       "      )\n",
       "    )\n",
       "  )\n",
       "  (layers): ReLU()\n",
       "  (classifier): Classifier(\n",
       "    (layers): ModuleList(\n",
       "      (0): Linear(in_features=100, out_features=10, bias=True)\n",
       "    )\n",
       "  )\n",
       ")"
      ]
     },
     "execution_count": 11,
     "metadata": {},
     "output_type": "execute_result"
    }
   ],
   "source": [
    "simCLR"
   ]
  },
  {
   "cell_type": "code",
   "execution_count": 12,
   "metadata": {},
   "outputs": [],
   "source": [
    "attack_epsilon = 0.25"
   ]
  },
  {
   "cell_type": "code",
   "execution_count": 13,
   "metadata": {},
   "outputs": [],
   "source": [
    "batchSize=64\n",
    "epoches = 20\n",
    "path1 = \"./AdversarialSamples_layer\"+str(layer_num)+\"/new_DataTrian-25-model_layer\"+str(layer_num)+\".npy\"\n",
    "path2 = \"./AdversarialSamples_layer\"+str(layer_num)+\"/new_TargetsTrian-25-model_layer\"+str(layer_num)+\".npy\"\n",
    "path3 = \"./AdversarialSamples_layer\"+str(layer_num)+\"/adversarialDataTrian-25-model_layer\"+str(layer_num)+\".npy\"\n",
    "path4 = \"./AdversarialSamples_layer\"+str(layer_num)+\"/new_DataTest-25-model_layer\"+str(layer_num)+\".npy\"\n",
    "path5 = \"./AdversarialSamples_layer\"+str(layer_num)+\"/new_TargetsTest-25-model_layer\"+str(layer_num)+\".npy\"\n",
    "path6 = \"./AdversarialSamples_layer\"+str(layer_num)+\"/new_adversarialDataTest-25-model_layer\"+str(layer_num)+\".npy\""
   ]
  },
  {
   "cell_type": "code",
   "execution_count": 14,
   "metadata": {},
   "outputs": [],
   "source": [
    "trainLoader,testLoader=GetDataLoader(*Get_New_MnistData(path1,path2,path3,path4,path5,path6),batchSize) "
   ]
  },
  {
   "cell_type": "code",
   "execution_count": 15,
   "metadata": {},
   "outputs": [],
   "source": [
    "#for step, sample in enumerate(trainLoader):\n",
    "#    print(sample[0][1].size())"
   ]
  },
  {
   "cell_type": "code",
   "execution_count": 16,
   "metadata": {},
   "outputs": [],
   "source": [
    "#eval_on_dataLoader(simCLR,MLP,testLoader,attack_epsilon)"
   ]
  },
  {
   "cell_type": "markdown",
   "metadata": {},
   "source": [
    "# 训练SimCLR特征提取器\n"
   ]
  },
  {
   "cell_type": "code",
   "execution_count": 17,
   "metadata": {},
   "outputs": [
    {
     "ename": "AttributeError",
     "evalue": "'list' object has no attribute 'float'",
     "output_type": "error",
     "traceback": [
      "\u001b[1;31m---------------------------------------------------------------------------\u001b[0m",
      "\u001b[1;31mAttributeError\u001b[0m                            Traceback (most recent call last)",
      "\u001b[1;32m<ipython-input-17-7bc64a476db3>\u001b[0m in \u001b[0;36m<module>\u001b[1;34m\u001b[0m\n\u001b[1;32m----> 1\u001b[1;33m \u001b[0mcontrastiveLoss\u001b[0m\u001b[1;33m,\u001b[0m\u001b[0mtestloss\u001b[0m \u001b[1;33m=\u001b[0m \u001b[0mTrainSimCLR\u001b[0m\u001b[1;33m(\u001b[0m\u001b[0msimCLR_extractor\u001b[0m\u001b[1;33m,\u001b[0m\u001b[0mMLP\u001b[0m\u001b[1;33m,\u001b[0m\u001b[0mtrainLoader\u001b[0m\u001b[1;33m,\u001b[0m\u001b[0mtestLoader\u001b[0m\u001b[1;33m,\u001b[0m\u001b[0mepoches\u001b[0m\u001b[1;33m,\u001b[0m\u001b[0mtrainLoader\u001b[0m\u001b[1;33m.\u001b[0m\u001b[0mbatch_size\u001b[0m\u001b[1;33m,\u001b[0m\u001b[0mattack_epsilon\u001b[0m\u001b[1;33m)\u001b[0m\u001b[1;33m\u001b[0m\u001b[1;33m\u001b[0m\u001b[0m\n\u001b[0m",
      "\u001b[1;32mF:\\神经网络的鲁棒性探究\\Trainers\\SimCLRTrainner.py\u001b[0m in \u001b[0;36mTrainSimCLR\u001b[1;34m(model, baseModel, trainLoader, testLoader, EPOCHES, batchSize, epsilon, lr, device)\u001b[0m\n\u001b[0;32m     82\u001b[0m \u001b[1;33m\u001b[0m\u001b[0m\n\u001b[0;32m     83\u001b[0m \u001b[1;33m\u001b[0m\u001b[0m\n\u001b[1;32m---> 84\u001b[1;33m             \u001b[0mimgs\u001b[0m \u001b[1;33m=\u001b[0m \u001b[1;33m(\u001b[0m\u001b[1;33m(\u001b[0m\u001b[0msample\u001b[0m\u001b[1;33m[\u001b[0m\u001b[1;36m0\u001b[0m\u001b[1;33m]\u001b[0m\u001b[1;33m.\u001b[0m\u001b[0mfloat\u001b[0m\u001b[1;33m(\u001b[0m\u001b[1;33m)\u001b[0m\u001b[1;33m)\u001b[0m\u001b[1;33m/\u001b[0m\u001b[1;36m255\u001b[0m\u001b[1;33m)\u001b[0m\u001b[1;33m.\u001b[0m\u001b[0mto\u001b[0m\u001b[1;33m(\u001b[0m\u001b[0mdevice\u001b[0m\u001b[1;33m)\u001b[0m\u001b[1;33m\u001b[0m\u001b[1;33m\u001b[0m\u001b[0m\n\u001b[0m\u001b[0;32m     85\u001b[0m             \u001b[1;31m#print(imgs.size())\u001b[0m\u001b[1;33m\u001b[0m\u001b[1;33m\u001b[0m\u001b[1;33m\u001b[0m\u001b[0m\n\u001b[0;32m     86\u001b[0m             \u001b[1;32mif\u001b[0m \u001b[1;33m(\u001b[0m\u001b[0mlen\u001b[0m\u001b[1;33m(\u001b[0m\u001b[0mimgs\u001b[0m\u001b[1;33m)\u001b[0m \u001b[1;33m!=\u001b[0m \u001b[0mbatchSize\u001b[0m\u001b[1;33m)\u001b[0m\u001b[1;33m:\u001b[0m\u001b[1;33m\u001b[0m\u001b[1;33m\u001b[0m\u001b[0m\n",
      "\u001b[1;31mAttributeError\u001b[0m: 'list' object has no attribute 'float'"
     ]
    }
   ],
   "source": [
    "contrastiveLoss,testloss = TrainSimCLR(simCLR_extractor,MLP,trainLoader,testLoader,epoches,trainLoader.batch_size,attack_epsilon)"
   ]
  },
  {
   "cell_type": "code",
   "execution_count": null,
   "metadata": {},
   "outputs": [],
   "source": [
    "plt.figure()\n",
    "plt.plot(range(epoches), contrastiveLoss)\n",
    "plt.xlabel('epoches')\n",
    "plt.ylabel('ContrastiveLoss')\n",
    "plt.show()"
   ]
  },
  {
   "cell_type": "code",
   "execution_count": null,
   "metadata": {},
   "outputs": [],
   "source": [
    "#.cpu().detach().numpy()"
   ]
  },
  {
   "cell_type": "code",
   "execution_count": null,
   "metadata": {},
   "outputs": [],
   "source": [
    "#np.array(testAccs.detach().numpy())"
   ]
  },
  {
   "cell_type": "code",
   "execution_count": null,
   "metadata": {
    "scrolled": true
   },
   "outputs": [],
   "source": [
    "#plt.figure()\n",
    "#plt.plot(range(20), testAccs.cpu().detach().numpy())\n",
    "#plt.xlabel('epoches')\n",
    "#plt.ylabel('Test Accuracy')\n",
    "#plt.show()\n"
   ]
  },
  {
   "cell_type": "code",
   "execution_count": null,
   "metadata": {},
   "outputs": [],
   "source": [
    "testLoss = []\n",
    "for i in range(epoches):\n",
    "    testLoss.append(testloss[i].item())"
   ]
  },
  {
   "cell_type": "code",
   "execution_count": null,
   "metadata": {},
   "outputs": [],
   "source": [
    "plt.figure()\n",
    "plt.plot(range(epoches), testLoss)\n",
    "plt.xlabel('epoches')\n",
    "plt.ylabel('Test Loss')\n",
    "plt.show()\n"
   ]
  },
  {
   "cell_type": "code",
   "execution_count": null,
   "metadata": {},
   "outputs": [],
   "source": [
    "simCLR_classifier = torch.load(\"./Models/classifier.pt\").cpu()"
   ]
  },
  {
   "cell_type": "code",
   "execution_count": null,
   "metadata": {},
   "outputs": [],
   "source": [
    "simCLR = FullMLP(simCLR_extractor,simCLR_classifier)"
   ]
  },
  {
   "cell_type": "code",
   "execution_count": null,
   "metadata": {
    "scrolled": true
   },
   "outputs": [],
   "source": [
    "print(TestAccuracy_SimCLR_origndata(simCLR,testLoader))"
   ]
  },
  {
   "cell_type": "markdown",
   "metadata": {},
   "source": [
    "# 训练SimCLR分类器"
   ]
  },
  {
   "cell_type": "code",
   "execution_count": null,
   "metadata": {
    "scrolled": false
   },
   "outputs": [],
   "source": [
    "train_losses, test_losses, test_accuracy  = TrainClassifier_SimCLR_origndata(simCLR_extractor, simCLR_classifier, trainLoader,testLoader, epoches)"
   ]
  },
  {
   "cell_type": "code",
   "execution_count": null,
   "metadata": {},
   "outputs": [],
   "source": [
    "test_accuracy"
   ]
  },
  {
   "cell_type": "code",
   "execution_count": null,
   "metadata": {},
   "outputs": [],
   "source": [
    "plt.figure()\n",
    "plt.plot(range(epoches), train_losses)\n",
    "plt.xlabel('epoches')\n",
    "plt.ylabel('train losses')\n",
    "plt.show()"
   ]
  },
  {
   "cell_type": "code",
   "execution_count": null,
   "metadata": {
    "scrolled": true
   },
   "outputs": [],
   "source": [
    "plt.figure()\n",
    "plt.plot(range(epoches), test_losses)\n",
    "plt.xlabel('epoches')\n",
    "plt.ylabel('test losses')\n",
    "plt.show()"
   ]
  },
  {
   "cell_type": "code",
   "execution_count": null,
   "metadata": {},
   "outputs": [],
   "source": [
    "plt.figure()\n",
    "plt.plot(range(epoches), test_accuracy)\n",
    "plt.xlabel('epoches')\n",
    "plt.ylabel('test_accuracy')\n",
    "plt.show()"
   ]
  },
  {
   "cell_type": "code",
   "execution_count": null,
   "metadata": {},
   "outputs": [],
   "source": [
    "simCLR = FullMLP(simCLR_extractor,simCLR_classifier)\n",
    "print(TestAccuracy_SimCLR_origndata(simCLR,testLoader))"
   ]
  },
  {
   "cell_type": "code",
   "execution_count": null,
   "metadata": {},
   "outputs": [],
   "source": [
    "torch.save(simCLR,\"./Models/simCLR_layer\"+str(layer_num)+\".pt\")"
   ]
  },
  {
   "cell_type": "code",
   "execution_count": null,
   "metadata": {},
   "outputs": [],
   "source": [
    "print(TestAccuracy_SimCLR_adversarialdata(simCLR,testLoader))"
   ]
  },
  {
   "cell_type": "code",
   "execution_count": null,
   "metadata": {},
   "outputs": [],
   "source": [
    "#simCLR = FullMLP(simCLR_extractor,simCLR_classifier)\n",
    "#print(TestAccuracy_SimCLR_origndata(simCLR,testLoader))"
   ]
  },
  {
   "cell_type": "code",
   "execution_count": null,
   "metadata": {},
   "outputs": [],
   "source": [
    "simCLR"
   ]
  },
  {
   "cell_type": "code",
   "execution_count": 18,
   "metadata": {},
   "outputs": [
    {
     "ename": "NameError",
     "evalue": "name 'sample' is not defined",
     "output_type": "error",
     "traceback": [
      "\u001b[1;31m---------------------------------------------------------------------------\u001b[0m",
      "\u001b[1;31mNameError\u001b[0m                                 Traceback (most recent call last)",
      "\u001b[1;32m<ipython-input-18-5f34ec0bfeac>\u001b[0m in \u001b[0;36m<module>\u001b[1;34m\u001b[0m\n\u001b[1;32m----> 1\u001b[1;33m \u001b[0msample\u001b[0m\u001b[1;33m\u001b[0m\u001b[1;33m\u001b[0m\u001b[0m\n\u001b[0m",
      "\u001b[1;31mNameError\u001b[0m: name 'sample' is not defined"
     ]
    }
   ],
   "source": []
  },
  {
   "cell_type": "code",
   "execution_count": null,
   "metadata": {},
   "outputs": [],
   "source": []
  }
 ],
 "metadata": {
  "kernelspec": {
   "display_name": "Python 3",
   "language": "python",
   "name": "python3"
  },
  "language_info": {
   "codemirror_mode": {
    "name": "ipython",
    "version": 3
   },
   "file_extension": ".py",
   "mimetype": "text/x-python",
   "name": "python",
   "nbconvert_exporter": "python",
   "pygments_lexer": "ipython3",
   "version": "3.8.8"
  }
 },
 "nbformat": 4,
 "nbformat_minor": 4
}
