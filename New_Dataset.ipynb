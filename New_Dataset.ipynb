{
 "cells": [
  {
   "cell_type": "code",
   "execution_count": 2,
   "id": "62fd8bdf",
   "metadata": {},
   "outputs": [],
   "source": [
    "from torch.utils.data import DataLoader,Dataset\n",
    "import numpy as np\n",
    "\n",
    "class NewData(Dataset):\n",
    "    def __init__(self, path1, path2, path3): \n",
    "        self.images = np.load(path1)\n",
    "        self.lables = np.load(path2)\n",
    "        self.ad_images = np.load(path3)\n",
    "        \n",
    "    def __len__(self):#返回整个数据集的大小\n",
    "        return len(self.images)\n",
    "    \n",
    "    def __getitem__(self,index):#根据索引index返回dataset[index]  \n",
    "        return [self.images[index], self.lables[index], ad_images[index]]   "
   ]
  },
  {
   "cell_type": "code",
   "execution_count": null,
   "id": "ef087f0b",
   "metadata": {},
   "outputs": [],
   "source": []
  }
 ],
 "metadata": {
  "kernelspec": {
   "display_name": "Python 3",
   "language": "python",
   "name": "python3"
  },
  "language_info": {
   "codemirror_mode": {
    "name": "ipython",
    "version": 3
   },
   "file_extension": ".py",
   "mimetype": "text/x-python",
   "name": "python",
   "nbconvert_exporter": "python",
   "pygments_lexer": "ipython3",
   "version": "3.8.8"
  }
 },
 "nbformat": 4,
 "nbformat_minor": 5
}
