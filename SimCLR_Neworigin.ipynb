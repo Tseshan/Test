{
 "cells": [
  {
   "cell_type": "code",
   "execution_count": 1,
   "id": "7ca0ad0b",
   "metadata": {},
   "outputs": [],
   "source": [
    "import sys\n",
    "sys.path.append(r'F:\\神经网络的鲁棒性探究\\Model_package')"
   ]
  },
  {
   "cell_type": "code",
   "execution_count": 2,
   "id": "dc56a027",
   "metadata": {},
   "outputs": [
    {
     "name": "stdout",
     "output_type": "stream",
     "text": [
      "['F:\\\\神经网络的鲁棒性探究', 'C:\\\\Users\\\\KING\\\\anaconda3\\\\python38.zip', 'C:\\\\Users\\\\KING\\\\anaconda3\\\\DLLs', 'C:\\\\Users\\\\KING\\\\anaconda3\\\\lib', 'C:\\\\Users\\\\KING\\\\anaconda3', '', 'C:\\\\Users\\\\KING\\\\anaconda3\\\\lib\\\\site-packages', 'C:\\\\Users\\\\KING\\\\anaconda3\\\\lib\\\\site-packages\\\\locket-0.2.1-py3.8.egg', 'C:\\\\Users\\\\KING\\\\anaconda3\\\\lib\\\\site-packages\\\\win32', 'C:\\\\Users\\\\KING\\\\anaconda3\\\\lib\\\\site-packages\\\\win32\\\\lib', 'C:\\\\Users\\\\KING\\\\anaconda3\\\\lib\\\\site-packages\\\\Pythonwin', 'C:\\\\Users\\\\KING\\\\anaconda3\\\\lib\\\\site-packages\\\\IPython\\\\extensions', 'C:\\\\Users\\\\KING\\\\.ipython', 'F:\\\\神经网络的鲁棒性探究\\\\Model_package', 'F:\\\\神经网络的鲁棒性探究\\\\Model_package', 'F:\\\\神经网络的鲁棒性探究\\\\Model_package']\n",
      "['F:\\\\神经网络的鲁棒性探究', 'C:\\\\Users\\\\KING\\\\anaconda3\\\\python38.zip', 'C:\\\\Users\\\\KING\\\\anaconda3\\\\DLLs', 'C:\\\\Users\\\\KING\\\\anaconda3\\\\lib', 'C:\\\\Users\\\\KING\\\\anaconda3', '', 'C:\\\\Users\\\\KING\\\\anaconda3\\\\lib\\\\site-packages', 'C:\\\\Users\\\\KING\\\\anaconda3\\\\lib\\\\site-packages\\\\locket-0.2.1-py3.8.egg', 'C:\\\\Users\\\\KING\\\\anaconda3\\\\lib\\\\site-packages\\\\win32', 'C:\\\\Users\\\\KING\\\\anaconda3\\\\lib\\\\site-packages\\\\win32\\\\lib', 'C:\\\\Users\\\\KING\\\\anaconda3\\\\lib\\\\site-packages\\\\Pythonwin', 'C:\\\\Users\\\\KING\\\\anaconda3\\\\lib\\\\site-packages\\\\IPython\\\\extensions', 'C:\\\\Users\\\\KING\\\\.ipython', 'F:\\\\神经网络的鲁棒性探究\\\\Model_package', 'F:\\\\神经网络的鲁棒性探究\\\\Model_package', 'F:\\\\神经网络的鲁棒性探究\\\\Model_package']\n"
     ]
    }
   ],
   "source": [
    "import torch\n",
    "import torch.nn as nn\n",
    "from Model_package.SimCLR.SimCLR import SimCLR\n",
    "from Trainers.SimCLRTrainner import*\n",
    "from  Trainers.ClassifierTrainner import*\n",
    "\n",
    "from Model_package.MLP.MLP_extractor import*\n",
    "from Model_package.FullModel.FullModel import*\n",
    "from GetData import*\n",
    "from matplotlib import pyplot as plt\n",
    "from Model_package.Utilites import*"
   ]
  },
  {
   "cell_type": "code",
   "execution_count": 3,
   "id": "e90f6a89",
   "metadata": {},
   "outputs": [],
   "source": [
    "layer_num = 4\n",
    "attack_epsilon = 0.25"
   ]
  },
  {
   "cell_type": "code",
   "execution_count": null,
   "id": "0725f1af",
   "metadata": {},
   "outputs": [],
   "source": [
    "MLP = torch.load(\"./Models/mlp_layer\"+str(layer_num)+\".pt\").cuda()"
   ]
  },
  {
   "cell_type": "code",
   "execution_count": null,
   "id": "64556880",
   "metadata": {},
   "outputs": [],
   "source": [
    "mlp_extractor = MLP_extractor(28*28).cpu()\n",
    "torch.save(mlp_extractor,\"./Models/mlp_extractor_initial.pt\")"
   ]
  },
  {
   "cell_type": "code",
   "execution_count": null,
   "id": "7dd34685",
   "metadata": {},
   "outputs": [],
   "source": [
    "simCLR_extractor=SimCLR(\"./Models/mlp_extractor_initial.pt\")#.cpu()"
   ]
  },
  {
   "cell_type": "code",
   "execution_count": null,
   "id": "c47f3a1d",
   "metadata": {},
   "outputs": [],
   "source": [
    "simCLR_classifier = torch.load(\"./Models/classifier.pt\")#.cpu()"
   ]
  },
  {
   "cell_type": "code",
   "execution_count": null,
   "id": "3dbf085b",
   "metadata": {},
   "outputs": [],
   "source": [
    "simCLR = FullMLP(simCLR_extractor,simCLR_classifier)\n"
   ]
  },
  {
   "cell_type": "code",
   "execution_count": null,
   "id": "be190fd2",
   "metadata": {},
   "outputs": [],
   "source": [
    "simCLR"
   ]
  },
  {
   "cell_type": "code",
   "execution_count": null,
   "id": "b100242e",
   "metadata": {},
   "outputs": [],
   "source": [
    "batchSize=128\n",
    "epoches = 150\n",
    "path1 = \"./AdversarialSamples_layer\"+str(layer_num)+\"/new_DataTrian-25-model_layer\"+str(layer_num)+\".npy\"\n",
    "path2 = \"./AdversarialSamples_layer\"+str(layer_num)+\"/new_TargetsTrian-25-model_layer\"+str(layer_num)+\".npy\"\n",
    "#path3 = \"./AdversarialSamples_layer\"+str(layer_num)+\"/adversarialDataTrian-25-model_layer\"+str(layer_num)+\".npy\"\n",
    "path4 = \"./AdversarialSamples_layer\"+str(layer_num)+\"/new_DataTest-25-model_layer\"+str(layer_num)+\".npy\"\n",
    "path5 = \"./AdversarialSamples_layer\"+str(layer_num)+\"/new_TargetsTest-25-model_layer\"+str(layer_num)+\".npy\"\n",
    "#path6 = \"./AdversarialSamples_layer\"+str(layer_num)+\"/new_adversarialDataTest-25-model_layer\"+str(layer_num)+\".npy\""
   ]
  },
  {
   "cell_type": "code",
   "execution_count": null,
   "id": "7f99d1a9",
   "metadata": {},
   "outputs": [],
   "source": [
    "#trainLoader,testLoader=GetDataLoader(*Get_New_MnistData(path1,path2,path3,path4,path5,path6),batchSize) "
   ]
  },
  {
   "cell_type": "code",
   "execution_count": null,
   "id": "60af799d",
   "metadata": {},
   "outputs": [],
   "source": [
    "trainLoader,testLoader=GetDataLoader(*Get_New_MnistData_orgin(path1,path2,path4,path5),batchSize)"
   ]
  },
  {
   "cell_type": "code",
   "execution_count": null,
   "id": "5dc8c608",
   "metadata": {},
   "outputs": [],
   "source": [
    "trainLoader"
   ]
  },
  {
   "cell_type": "code",
   "execution_count": null,
   "id": "a4671329",
   "metadata": {
    "scrolled": false
   },
   "outputs": [],
   "source": [
    "contrastiveLoss,testloss = TrainSimCLR(simCLR_extractor,MLP,trainLoader,testLoader,epoches,trainLoader.batch_size,attack_epsilon)"
   ]
  },
  {
   "cell_type": "code",
   "execution_count": null,
   "id": "225ef83c",
   "metadata": {
    "scrolled": true
   },
   "outputs": [],
   "source": [
    "plt.figure()\n",
    "plt.plot(range(epoches), contrastiveLoss)\n",
    "plt.xlabel('epoches')\n",
    "plt.ylabel('ContrastiveLoss')\n",
    "plt.show()"
   ]
  },
  {
   "cell_type": "code",
   "execution_count": null,
   "id": "7572c6fd",
   "metadata": {},
   "outputs": [],
   "source": []
  },
  {
   "cell_type": "code",
   "execution_count": null,
   "id": "868769fc",
   "metadata": {},
   "outputs": [],
   "source": [
    "testLoss = []\n",
    "for i in range(epoches):\n",
    "    testLoss.append(testloss[i])\n",
    "    #testLoss.append(testloss[i].item())"
   ]
  },
  {
   "cell_type": "code",
   "execution_count": null,
   "id": "45416c5d",
   "metadata": {},
   "outputs": [],
   "source": [
    "#plt.figure()\n",
    "#plt.plot(range(epoches), testLoss)\n",
    "#plt.xlabel('epoches')\n",
    "#plt.ylabel('Test Loss')\n",
    "#plt.show()"
   ]
  },
  {
   "cell_type": "code",
   "execution_count": null,
   "id": "56ef05ac",
   "metadata": {},
   "outputs": [],
   "source": [
    "simCLR = FullMLP(simCLR_extractor,simCLR_classifier)"
   ]
  },
  {
   "cell_type": "code",
   "execution_count": null,
   "id": "10f2408c",
   "metadata": {},
   "outputs": [],
   "source": [
    "print(TestAccuracy_origin(simCLR,testLoader))"
   ]
  },
  {
   "cell_type": "code",
   "execution_count": null,
   "id": "f82eaf50",
   "metadata": {},
   "outputs": [],
   "source": [
    "train_losses, test_losses, test_accuracy = TrainClassifier_SimCLR_origin(simCLR_extractor, simCLR_classifier, trainLoader,testLoader, epoches=20)"
   ]
  },
  {
   "cell_type": "code",
   "execution_count": null,
   "id": "dbf04643",
   "metadata": {},
   "outputs": [],
   "source": [
    "plt.figure()\n",
    "plt.plot(range(epoches), train_losses)\n",
    "plt.xlabel('epoches')\n",
    "plt.ylabel('train losses')\n",
    "plt.show()"
   ]
  },
  {
   "cell_type": "code",
   "execution_count": null,
   "id": "45820beb",
   "metadata": {},
   "outputs": [],
   "source": [
    "plt.figure()\n",
    "plt.plot(range(epoches), test_losses)\n",
    "plt.xlabel('epoches')\n",
    "plt.ylabel('test losses')\n",
    "plt.show()"
   ]
  },
  {
   "cell_type": "code",
   "execution_count": null,
   "id": "cce4666c",
   "metadata": {},
   "outputs": [],
   "source": [
    "plt.figure()\n",
    "plt.plot(range(epoches), test_accuracy)\n",
    "plt.xlabel('epoches')\n",
    "plt.ylabel('test_accuracy')\n",
    "plt.show()"
   ]
  },
  {
   "cell_type": "code",
   "execution_count": null,
   "id": "b1fe6733",
   "metadata": {},
   "outputs": [],
   "source": [
    "simCLR = FullMLP(simCLR_extractor,simCLR_classifier)\n",
    "print(TestAccuracyWithFGSM_origin(simCLR, MLP, testLoader, 0.25))"
   ]
  },
  {
   "cell_type": "code",
   "execution_count": null,
   "id": "a932dc23",
   "metadata": {},
   "outputs": [],
   "source": [
    "torch.save(simCLR,\"./Models/simCLR_layer\"+str(layer_num)+\".pt\")"
   ]
  },
  {
   "cell_type": "code",
   "execution_count": null,
   "id": "9d8033b9",
   "metadata": {},
   "outputs": [],
   "source": []
  }
 ],
 "metadata": {
  "kernelspec": {
   "display_name": "Python 3",
   "language": "python",
   "name": "python3"
  },
  "language_info": {
   "codemirror_mode": {
    "name": "ipython",
    "version": 3
   },
   "file_extension": ".py",
   "mimetype": "text/x-python",
   "name": "python",
   "nbconvert_exporter": "python",
   "pygments_lexer": "ipython3",
   "version": "3.8.8"
  }
 },
 "nbformat": 4,
 "nbformat_minor": 5
}
