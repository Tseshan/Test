{
 "cells": [
  {
   "cell_type": "code",
   "execution_count": 1,
   "id": "ca09ee50",
   "metadata": {},
   "outputs": [],
   "source": [
    "import torch\n",
    "from GetData import GetDataLoader,GetMnistData\n",
    "from Model_package.MLP.MLP import MLP\n",
    "from Model_package.FGSM.fgsm import get_fgsm_samples_data\n",
    "from Model_package.FGSM import fgsm\n",
    "import torch\n",
    "import numpy as np\n",
    "import os\n",
    "import torch.nn.functional as F\n",
    "from matplotlib import pyplot as plt"
   ]
  },
  {
   "cell_type": "markdown",
   "id": "53491244",
   "metadata": {},
   "source": [
    " # 根据层数要修改"
   ]
  },
  {
   "cell_type": "code",
   "execution_count": 2,
   "id": "1a5c3818",
   "metadata": {},
   "outputs": [],
   "source": [
    "layer_num = 4                                                                           #根据层数要修改"
   ]
  },
  {
   "cell_type": "code",
   "execution_count": 3,
   "id": "3bfe6560",
   "metadata": {},
   "outputs": [],
   "source": [
    "filenames={}\n",
    "filenames['MLPModelPath']=\"./Models/mlp_layer\"+str(layer_num)+\".pt\"\n",
    "mlp = torch.load(filenames['MLPModelPath'])"
   ]
  },
  {
   "cell_type": "code",
   "execution_count": 4,
   "id": "20664a81",
   "metadata": {},
   "outputs": [
    {
     "data": {
      "text/plain": [
       "MLP(\n",
       "  (layers): ModuleList(\n",
       "    (0): Linear(in_features=784, out_features=100, bias=True)\n",
       "    (1): ReLU()\n",
       "    (2): Linear(in_features=100, out_features=100, bias=True)\n",
       "    (3): ReLU()\n",
       "    (4): Linear(in_features=100, out_features=100, bias=True)\n",
       "    (5): ReLU()\n",
       "    (6): Linear(in_features=100, out_features=100, bias=True)\n",
       "    (7): ReLU()\n",
       "  )\n",
       "  (classification): Classifier(\n",
       "    (layers): ModuleList(\n",
       "      (0): Linear(in_features=100, out_features=10, bias=True)\n",
       "    )\n",
       "  )\n",
       ")"
      ]
     },
     "execution_count": 4,
     "metadata": {},
     "output_type": "execute_result"
    }
   ],
   "source": [
    "mlp"
   ]
  },
  {
   "cell_type": "markdown",
   "id": "a1e1afbf",
   "metadata": {},
   "source": [
    "# 根据层数要修改文件夹位置"
   ]
  },
  {
   "cell_type": "code",
   "execution_count": 5,
   "id": "58940c56",
   "metadata": {},
   "outputs": [],
   "source": [
    "ad_train = np.load(\"./AdversarialSamples_layer\"+str(layer_num)+\"/adversarialDataTrian-25-model_layer\"+str(layer_num)+\".npy\")\n",
    "train = np.load(\"./AdversarialSamples_layer\"+str(layer_num)+\"/DataTrian-25-model_layer\"+str(layer_num)+\".npy\")\n",
    "train_target = np.load(\"./AdversarialSamples_layer\"+str(layer_num)+\"/TargetsTrian-25-model_layer\"+str(layer_num)+\".npy\")"
   ]
  },
  {
   "cell_type": "code",
   "execution_count": 6,
   "id": "b068f12d",
   "metadata": {},
   "outputs": [],
   "source": [
    "ad_test = np.load(\"./AdversarialSamples_layer\"+str(layer_num)+\"/adversarialDataTest-25-model_layer\"+str(layer_num)+\".npy\")\n",
    "test = np.load(\"./AdversarialSamples_layer\"+str(layer_num)+\"/DataTest-25-model_layer\"+str(layer_num)+\".npy\")\n",
    "test_target = np.load(\"./AdversarialSamples_layer\"+str(layer_num)+\"/targetsTest-25-model_layer\"+str(layer_num)+\".npy\")"
   ]
  },
  {
   "cell_type": "markdown",
   "id": "6670928f",
   "metadata": {},
   "source": [
    "#  原数据的范围在0~255之间"
   ]
  },
  {
   "cell_type": "code",
   "execution_count": 7,
   "id": "c0c23a67",
   "metadata": {},
   "outputs": [],
   "source": [
    "ad_train_tensor = torch.tensor(ad_train)\n",
    "ad_test_tensor = torch.tensor(ad_test)     "
   ]
  },
  {
   "cell_type": "code",
   "execution_count": 8,
   "id": "c71eadf7",
   "metadata": {},
   "outputs": [],
   "source": [
    "train_index = []\n",
    "test_index = []\n",
    "ad_train_index = []\n",
    "ad_test_index = []\n",
    "\n",
    "train_target_index = []\n",
    "test_target_index = []"
   ]
  },
  {
   "cell_type": "code",
   "execution_count": 9,
   "id": "0d44c032",
   "metadata": {
    "scrolled": false
   },
   "outputs": [],
   "source": [
    "for i in range(60000):\n",
    "    if int(train_target[i]) != int(torch.argmax(mlp(ad_train_tensor[i]),dim=1).cpu().detach().numpy()):\n",
    "        ad_train_index.append(ad_train[i])\n",
    "        train_index.append(train[i])\n",
    "        train_target_index.append(train_target[i])"
   ]
  },
  {
   "cell_type": "code",
   "execution_count": 10,
   "id": "4ad4e009",
   "metadata": {},
   "outputs": [],
   "source": [
    "for i in range(10000):\n",
    "    if int(test_target[i]) != int(torch.argmax(mlp(ad_test_tensor[i]),dim=1).cpu().detach().numpy()):\n",
    "        ad_test_index.append(ad_test[i])\n",
    "        test_index.append(test[i])\n",
    "        test_target_index.append(test_target[i])"
   ]
  },
  {
   "cell_type": "code",
   "execution_count": 11,
   "id": "844e0e5e",
   "metadata": {},
   "outputs": [],
   "source": [
    "ad_train_clear = np.array(ad_train_index)\n",
    "train_clear = np.array(train_index)\n",
    "train_target_clear = np.array(train_target_index)\n",
    "\n",
    "ad_test_clear = np.array(ad_test_index)\n",
    "test_clear = np.array(test_index)\n",
    "test_target_clear = np.array(test_target_index)"
   ]
  },
  {
   "cell_type": "markdown",
   "id": "0dc4ca89",
   "metadata": {},
   "source": [
    " # 根据层数要修改文件夹位置"
   ]
  },
  {
   "cell_type": "code",
   "execution_count": 12,
   "id": "c4a60e3b",
   "metadata": {},
   "outputs": [],
   "source": [
    "np.save(\"./AdversarialSamples_layer\"+str(layer_num)+\"/new_adversarialDataTrian-25-model_layer\"+str(layer_num)+\".npy\", ad_train_clear)            #根据层数要修改文件夹位置\n",
    "np.save(\"./AdversarialSamples_layer\"+str(layer_num)+\"/new_DataTrian-25-model_layer\"+str(layer_num)+\".npy\", train_clear)\n",
    "np.save(\"./AdversarialSamples_layer\"+str(layer_num)+\"/new_TargetsTrian-25-model_layer\"+str(layer_num)+\".npy\", train_target_clear)\n",
    "np.save(\"./AdversarialSamples_layer\"+str(layer_num)+\"/new_adversarialDataTest-25-model_layer\"+str(layer_num)+\".npy\", ad_test_clear)\n",
    "np.save(\"./AdversarialSamples_layer\"+str(layer_num)+\"/new_DataTest-25-model_layer\"+str(layer_num)+\".npy\", test_clear)\n",
    "np.save(\"./AdversarialSamples_layer\"+str(layer_num)+\"/new_TargetsTest-25-model_layer\"+str(layer_num)+\".npy\", test_target_clear)"
   ]
  },
  {
   "cell_type": "code",
   "execution_count": 13,
   "id": "d92b5484",
   "metadata": {},
   "outputs": [
    {
     "data": {
      "text/plain": [
       "(9828, 28, 28)"
      ]
     },
     "execution_count": 13,
     "metadata": {},
     "output_type": "execute_result"
    }
   ],
   "source": [
    "test_clear.shape"
   ]
  },
  {
   "cell_type": "code",
   "execution_count": 14,
   "id": "34403e8d",
   "metadata": {},
   "outputs": [
    {
     "data": {
      "text/plain": [
       "(58757,)"
      ]
     },
     "execution_count": 14,
     "metadata": {},
     "output_type": "execute_result"
    }
   ],
   "source": [
    "train_target_clear.shape"
   ]
  },
  {
   "cell_type": "code",
   "execution_count": null,
   "id": "408dede4",
   "metadata": {},
   "outputs": [],
   "source": []
  }
 ],
 "metadata": {
  "kernelspec": {
   "display_name": "Python 3",
   "language": "python",
   "name": "python3"
  },
  "language_info": {
   "codemirror_mode": {
    "name": "ipython",
    "version": 3
   },
   "file_extension": ".py",
   "mimetype": "text/x-python",
   "name": "python",
   "nbconvert_exporter": "python",
   "pygments_lexer": "ipython3",
   "version": "3.8.8"
  }
 },
 "nbformat": 4,
 "nbformat_minor": 5
}
