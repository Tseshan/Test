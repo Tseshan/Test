{
 "cells": [
  {
   "cell_type": "code",
   "execution_count": 1,
   "id": "2478da9d",
   "metadata": {},
   "outputs": [],
   "source": [
    "import torch \n",
    "import torch.nn as nn\n",
    "import torch.nn.functional as F\n",
    "import numpy as np\n",
    "from matplotlib import pyplot as plt"
   ]
  },
  {
   "cell_type": "code",
   "execution_count": 2,
   "id": "efbadb26",
   "metadata": {},
   "outputs": [],
   "source": [
    "layer_num = 5"
   ]
  },
  {
   "cell_type": "code",
   "execution_count": 3,
   "id": "802cef3d",
   "metadata": {},
   "outputs": [],
   "source": [
    "simCLR = torch.load(\"./Models/simCLR_layer\"+str(layer_num)+\".pt\").cpu()\n",
    "MLP = torch.load(\"./Models/mlp_layer\"+str(layer_num)+\".pt\").cpu()"
   ]
  },
  {
   "cell_type": "code",
   "execution_count": 4,
   "id": "3cbf1c31",
   "metadata": {},
   "outputs": [
    {
     "data": {
      "text/plain": [
       "Linear(in_features=784, out_features=200, bias=True)"
      ]
     },
     "execution_count": 4,
     "metadata": {},
     "output_type": "execute_result"
    }
   ],
   "source": [
    "SimCLR_extract_output = list(simCLR.children())[0]\n",
    "SimCLR_Layer_List = list(list(list(SimCLR_extract_output.children())[0].children())[0].children())\n",
    "SimCLR_Layer_List[0]"
   ]
  },
  {
   "cell_type": "code",
   "execution_count": 5,
   "id": "b998f2ab",
   "metadata": {},
   "outputs": [],
   "source": [
    "MLP_extract_output = nn.Sequential(*list(MLP.children())[0])"
   ]
  },
  {
   "cell_type": "code",
   "execution_count": 6,
   "id": "3fa6e7ae",
   "metadata": {},
   "outputs": [
    {
     "name": "stdout",
     "output_type": "stream",
     "text": [
      "0.weight\n",
      "torch.Size([200, 784])\n",
      "2.weight\n",
      "torch.Size([200, 200])\n",
      "4.weight\n",
      "torch.Size([200, 200])\n",
      "6.weight\n",
      "torch.Size([150, 200])\n",
      "8.weight\n",
      "torch.Size([100, 150])\n"
     ]
    }
   ],
   "source": [
    "MLP_weight = []\n",
    "i = 0\n",
    "for name,param in MLP_extract_output.named_parameters():\n",
    "    if name == str(i)+\".weight\":    \n",
    "        print(name)\n",
    "        print(torch.Tensor(param.cpu().detach().numpy()).size())\n",
    "        MLP_weight.append(torch.Tensor(param.cpu().detach().numpy()).reshape(1, -1))\n",
    "        i = i+2"
   ]
  },
  {
   "cell_type": "code",
   "execution_count": 7,
   "id": "4e3fc891",
   "metadata": {},
   "outputs": [
    {
     "name": "stdout",
     "output_type": "stream",
     "text": [
      "baseModel.layers.0.weight\n",
      "tensor([[-0.0915, -0.0026,  0.0020,  ...,  0.1659,  0.1196, -0.1352],\n",
      "        [ 0.0516, -0.0035, -0.1058,  ..., -0.1255,  0.1021,  0.0007],\n",
      "        [-0.0253,  0.0147,  0.0955,  ..., -0.0751,  0.0260,  0.0292],\n",
      "        ...,\n",
      "        [-0.0049, -0.0993, -0.0267,  ...,  0.0190, -0.0434, -0.1379],\n",
      "        [-0.0648,  0.0080, -0.0206,  ..., -0.0555,  0.0249,  0.0280],\n",
      "        [ 0.0113, -0.0770, -0.1225,  ..., -0.1739,  0.0813,  0.0133]])\n",
      "baseModel.layers.2.weight\n",
      "tensor([[-0.0258,  0.0459, -0.0398,  ..., -0.0889,  0.0566, -0.0980],\n",
      "        [ 0.1378, -0.0011, -0.1916,  ...,  0.2038,  0.1104, -0.2500],\n",
      "        [ 0.1868,  0.1186,  0.0648,  ...,  0.0097,  0.1265, -0.0248],\n",
      "        ...,\n",
      "        [-0.1621, -0.3651,  0.1053,  ...,  0.0917, -0.0045,  0.0161],\n",
      "        [ 0.0107, -0.0302, -0.1275,  ..., -0.0836, -0.1102,  0.0059],\n",
      "        [ 0.0092,  0.0408,  0.0843,  ..., -0.0217,  0.0043,  0.0643]])\n",
      "baseModel.layers.4.weight\n",
      "tensor([[ 0.0344, -0.0548, -0.0846,  ..., -0.4084, -0.0732,  0.0652],\n",
      "        [-0.0722, -0.0760, -0.0854,  ..., -0.1000,  0.0616, -0.0530],\n",
      "        [-0.1602,  0.2213,  0.0621,  ...,  0.0373,  0.0640, -0.2285],\n",
      "        ...,\n",
      "        [-0.2089, -0.0635, -0.3530,  ...,  0.1543,  0.0418, -0.0703],\n",
      "        [ 0.0009, -0.2323, -0.2325,  ...,  0.1531, -0.0206, -0.0551],\n",
      "        [-0.1124,  0.0920, -0.1938,  ...,  0.1781,  0.0101,  0.0724]])\n",
      "baseModel.layers.6.weight\n",
      "tensor([[-0.0520, -0.1974, -0.2779,  ..., -0.1434, -0.0597,  0.0542],\n",
      "        [ 0.1196, -0.1801,  0.0257,  ...,  0.0774, -0.1658, -0.1864],\n",
      "        [-0.0559, -0.2483, -0.1702,  ..., -0.0078, -0.0938, -0.2821],\n",
      "        ...,\n",
      "        [ 0.0765, -0.1392, -0.2697,  ...,  0.1369, -0.1838, -0.4509],\n",
      "        [-0.0265, -0.0021, -0.0409,  ..., -0.0310, -0.0637,  0.0167],\n",
      "        [-0.0835,  0.0139, -0.0972,  ..., -0.0087, -0.0646, -0.0653]])\n",
      "baseModel.layers.8.weight\n",
      "tensor([[-0.1830, -0.1724, -0.0342,  ...,  0.0816, -0.0532, -0.0727],\n",
      "        [ 0.0193, -0.0330,  0.2163,  ...,  0.0620,  0.0060,  0.0712],\n",
      "        [ 0.2443, -0.0834, -0.1855,  ..., -0.1102,  0.1023, -0.0362],\n",
      "        ...,\n",
      "        [ 0.0946,  0.0355, -0.0342,  ..., -0.1100, -0.0802,  0.0128],\n",
      "        [ 0.2104, -0.0062,  0.0652,  ..., -0.0675, -0.0156,  0.0589],\n",
      "        [ 0.2453, -0.2172,  0.2426,  ..., -0.2099, -0.0017,  0.0467]])\n"
     ]
    }
   ],
   "source": [
    "SimCLR_weight = []\n",
    "i = 0\n",
    "for name,param in SimCLR_extract_output.named_parameters():\n",
    "    if name == \"baseModel.layers.\"+str(i)+\".weight\":\n",
    "        \n",
    "        print(name)\n",
    "        print(torch.Tensor(param.cpu().detach().numpy()))\n",
    "        SimCLR_weight.append(torch.Tensor(param.cpu().detach().numpy()).reshape(1, -1))\n",
    "        i = i+2\n",
    "        \n",
    "    "
   ]
  },
  {
   "cell_type": "code",
   "execution_count": 8,
   "id": "4276f132",
   "metadata": {},
   "outputs": [
    {
     "data": {
      "text/plain": [
       "torch.Size([1, 40000])"
      ]
     },
     "execution_count": 8,
     "metadata": {},
     "output_type": "execute_result"
    }
   ],
   "source": [
    "SimCLR_weight[1].size()"
   ]
  },
  {
   "cell_type": "code",
   "execution_count": null,
   "id": "b3792238",
   "metadata": {},
   "outputs": [],
   "source": []
  },
  {
   "cell_type": "code",
   "execution_count": 9,
   "id": "26aaa4f8",
   "metadata": {},
   "outputs": [
    {
     "name": "stderr",
     "output_type": "stream",
     "text": [
      "C:\\Users\\KING\\anaconda3\\lib\\site-packages\\numpy\\core\\_asarray.py:171: FutureWarning: The input object of type 'Tensor' is an array-like implementing one of the corresponding protocols (`__array__`, `__array_interface__` or `__array_struct__`); but not a sequence (or 0-D). In the future, this object will be coerced as if it was first converted using `np.array(obj)`. To retain the old behaviour, you have to either modify the type 'Tensor', or assign to an empty array created with `np.empty(correct_shape, dtype=object)`.\n",
      "  return array(a, dtype, copy=False, order=order, subok=True)\n",
      "C:\\Users\\KING\\anaconda3\\lib\\site-packages\\numpy\\core\\_asarray.py:171: VisibleDeprecationWarning: Creating an ndarray from ragged nested sequences (which is a list-or-tuple of lists-or-tuples-or ndarrays with different lengths or shapes) is deprecated. If you meant to do this, you must specify 'dtype=object' when creating the ndarray.\n",
      "  return array(a, dtype, copy=False, order=order, subok=True)\n"
     ]
    },
    {
     "data": {
      "image/png": "[encoded data removed]",
      "text/plain": [
       "<Figure size 432x288 with 1 Axes>"
      ]
     },
     "metadata": {
      "needs_background": "light"
     },
     "output_type": "display_data"
    }
   ],
   "source": [
    "weight_similarity = []\n",
    "for j in range(len(MLP_weight)):\n",
    "    \n",
    "    #features_weight.append(SimCLR_weight[j])\n",
    "    #features_weight.append(MLP_weight[j])\n",
    "    \n",
    "    weight_similarity .append(F.cosine_similarity(SimCLR_weight[j],MLP_weight[j]))\n",
    "    \n",
    "plt.plot(weight_similarity)\n",
    "\n",
    "plt.ylabel('Cosine similarity')\n",
    "plt.xlabel('layer')\n",
    "\n",
    "plt.savefig('./Weight_similarity_image/layer'+str(len(MLP_weight))+'.png')\n",
    "\n",
    "plt.show()    \n",
    "    \n",
    "\n",
    "\n",
    "  \n",
    "        \n",
    "        #plt.savefig('./cos_image/Sum'+str(len(AdTest_SimCLR_files))+'layer'+ str(i)+'_target_'+ str(j)+'.png')"
   ]
  },
  {
   "cell_type": "code",
   "execution_count": 10,
   "id": "6f19e320",
   "metadata": {},
   "outputs": [],
   "source": [
    "#F.cosine_similarity(SimCLR_weight[0],MLP_weight[0])"
   ]
  },
  {
   "cell_type": "code",
   "execution_count": 11,
   "id": "29b70d9a",
   "metadata": {},
   "outputs": [],
   "source": [
    "#F.cosine_similarity(SimCLR_weight[1],MLP_weight[1])"
   ]
  },
  {
   "cell_type": "code",
   "execution_count": 12,
   "id": "d209e0f8",
   "metadata": {},
   "outputs": [],
   "source": [
    "#F.cosine_similarity(SimCLR_weight[2],MLP_weight[2])"
   ]
  },
  {
   "cell_type": "code",
   "execution_count": 13,
   "id": "88b8a880",
   "metadata": {},
   "outputs": [],
   "source": [
    "#F.cosine_similarity(SimCLR_weight[3],MLP_weight[3])"
   ]
  },
  {
   "cell_type": "code",
   "execution_count": null,
   "id": "267bc04e",
   "metadata": {},
   "outputs": [],
   "source": []
  },
  {
   "cell_type": "code",
   "execution_count": 14,
   "id": "c98ec47c",
   "metadata": {},
   "outputs": [],
   "source": [
    "#F.cosine_similarity(torch.rand(1,156800),torch.rand(1,156800))"
   ]
  },
  {
   "cell_type": "code",
   "execution_count": null,
   "id": "40a5fe5c",
   "metadata": {},
   "outputs": [],
   "source": []
  }
 ],
 "metadata": {
  "kernelspec": {
   "display_name": "Python 3",
   "language": "python",
   "name": "python3"
  },
  "language_info": {
   "codemirror_mode": {
    "name": "ipython",
    "version": 3
   },
   "file_extension": ".py",
   "mimetype": "text/x-python",
   "name": "python",
   "nbconvert_exporter": "python",
   "pygments_lexer": "ipython3",
   "version": "3.8.8"
  }
 },
 "nbformat": 4,
 "nbformat_minor": 5
}
