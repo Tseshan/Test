{
 "cells": [
  {
   "cell_type": "code",
   "execution_count": 1,
   "id": "68fde0f0",
   "metadata": {},
   "outputs": [],
   "source": [
    "import torch \n",
    "import torch.nn as nn\n",
    "import torch.nn.functional as F\n",
    "import numpy as np\n",
    "from matplotlib import pyplot as plt"
   ]
  },
  {
   "cell_type": "code",
   "execution_count": 2,
   "id": "c1219545",
   "metadata": {},
   "outputs": [],
   "source": [
    "layer_num = 5"
   ]
  },
  {
   "cell_type": "code",
   "execution_count": 3,
   "id": "d1a01d1c",
   "metadata": {},
   "outputs": [],
   "source": [
    "simCLR = torch.load(\"./Models/simCLR_layer\"+str(layer_num)+\".pt\").cpu()\n",
    "MLP = torch.load(\"./Models/mlp_layer\"+str(layer_num)+\".pt\").cpu()"
   ]
  },
  {
   "cell_type": "code",
   "execution_count": 4,
   "id": "067ab792",
   "metadata": {},
   "outputs": [
    {
     "data": {
      "text/plain": [
       "Linear(in_features=784, out_features=200, bias=True)"
      ]
     },
     "execution_count": 4,
     "metadata": {},
     "output_type": "execute_result"
    }
   ],
   "source": [
    "SimCLR_extract_output = list(simCLR.children())[0]\n",
    "SimCLR_Layer_List = list(list(list(SimCLR_extract_output.children())[0].children())[0].children())\n",
    "SimCLR_Layer_List[0]"
   ]
  },
  {
   "cell_type": "code",
   "execution_count": null,
   "id": "2afb5300",
   "metadata": {},
   "outputs": [],
   "source": []
  },
  {
   "cell_type": "code",
   "execution_count": 5,
   "id": "a7291a79",
   "metadata": {},
   "outputs": [],
   "source": [
    "MLP_extract_output = nn.Sequential(*list(MLP.children())[0])"
   ]
  },
  {
   "cell_type": "code",
   "execution_count": 6,
   "id": "b66268e8",
   "metadata": {},
   "outputs": [
    {
     "name": "stdout",
     "output_type": "stream",
     "text": [
      "0.weight\n",
      "torch.Size([200, 784])\n",
      "2.weight\n",
      "torch.Size([200, 200])\n",
      "4.weight\n",
      "torch.Size([200, 200])\n",
      "6.weight\n",
      "torch.Size([150, 200])\n",
      "8.weight\n",
      "torch.Size([100, 150])\n"
     ]
    }
   ],
   "source": [
    "MLP_weight = []\n",
    "i = 0\n",
    "for name,param in MLP_extract_output.named_parameters():\n",
    "    if name == str(i)+\".weight\":    \n",
    "        print(name)\n",
    "        print(torch.Tensor(param.cpu().detach().numpy()).size())\n",
    "        MLP_weight.append(torch.Tensor(param.cpu().detach().numpy()))\n",
    "        i = i+2"
   ]
  },
  {
   "cell_type": "code",
   "execution_count": 7,
   "id": "50066271",
   "metadata": {},
   "outputs": [
    {
     "name": "stdout",
     "output_type": "stream",
     "text": [
      "baseModel.layers.0.weight\n",
      "tensor([[-0.0915, -0.0026,  0.0020,  ...,  0.1659,  0.1196, -0.1352],\n",
      "        [ 0.0516, -0.0035, -0.1058,  ..., -0.1255,  0.1021,  0.0007],\n",
      "        [-0.0253,  0.0147,  0.0955,  ..., -0.0751,  0.0260,  0.0292],\n",
      "        ...,\n",
      "        [-0.0049, -0.0993, -0.0267,  ...,  0.0190, -0.0434, -0.1379],\n",
      "        [-0.0648,  0.0080, -0.0206,  ..., -0.0555,  0.0249,  0.0280],\n",
      "        [ 0.0113, -0.0770, -0.1225,  ..., -0.1739,  0.0813,  0.0133]])\n",
      "baseModel.layers.2.weight\n",
      "tensor([[-0.0258,  0.0459, -0.0398,  ..., -0.0889,  0.0566, -0.0980],\n",
      "        [ 0.1378, -0.0011, -0.1916,  ...,  0.2038,  0.1104, -0.2500],\n",
      "        [ 0.1868,  0.1186,  0.0648,  ...,  0.0097,  0.1265, -0.0248],\n",
      "        ...,\n",
      "        [-0.1621, -0.3651,  0.1053,  ...,  0.0917, -0.0045,  0.0161],\n",
      "        [ 0.0107, -0.0302, -0.1275,  ..., -0.0836, -0.1102,  0.0059],\n",
      "        [ 0.0092,  0.0408,  0.0843,  ..., -0.0217,  0.0043,  0.0643]])\n",
      "baseModel.layers.4.weight\n",
      "tensor([[ 0.0344, -0.0548, -0.0846,  ..., -0.4084, -0.0732,  0.0652],\n",
      "        [-0.0722, -0.0760, -0.0854,  ..., -0.1000,  0.0616, -0.0530],\n",
      "        [-0.1602,  0.2213,  0.0621,  ...,  0.0373,  0.0640, -0.2285],\n",
      "        ...,\n",
      "        [-0.2089, -0.0635, -0.3530,  ...,  0.1543,  0.0418, -0.0703],\n",
      "        [ 0.0009, -0.2323, -0.2325,  ...,  0.1531, -0.0206, -0.0551],\n",
      "        [-0.1124,  0.0920, -0.1938,  ...,  0.1781,  0.0101,  0.0724]])\n",
      "baseModel.layers.6.weight\n",
      "tensor([[-0.0520, -0.1974, -0.2779,  ..., -0.1434, -0.0597,  0.0542],\n",
      "        [ 0.1196, -0.1801,  0.0257,  ...,  0.0774, -0.1658, -0.1864],\n",
      "        [-0.0559, -0.2483, -0.1702,  ..., -0.0078, -0.0938, -0.2821],\n",
      "        ...,\n",
      "        [ 0.0765, -0.1392, -0.2697,  ...,  0.1369, -0.1838, -0.4509],\n",
      "        [-0.0265, -0.0021, -0.0409,  ..., -0.0310, -0.0637,  0.0167],\n",
      "        [-0.0835,  0.0139, -0.0972,  ..., -0.0087, -0.0646, -0.0653]])\n",
      "baseModel.layers.8.weight\n",
      "tensor([[-0.1830, -0.1724, -0.0342,  ...,  0.0816, -0.0532, -0.0727],\n",
      "        [ 0.0193, -0.0330,  0.2163,  ...,  0.0620,  0.0060,  0.0712],\n",
      "        [ 0.2443, -0.0834, -0.1855,  ..., -0.1102,  0.1023, -0.0362],\n",
      "        ...,\n",
      "        [ 0.0946,  0.0355, -0.0342,  ..., -0.1100, -0.0802,  0.0128],\n",
      "        [ 0.2104, -0.0062,  0.0652,  ..., -0.0675, -0.0156,  0.0589],\n",
      "        [ 0.2453, -0.2172,  0.2426,  ..., -0.2099, -0.0017,  0.0467]])\n"
     ]
    }
   ],
   "source": [
    "SimCLR_weight = []\n",
    "i = 0\n",
    "for name,param in SimCLR_extract_output.named_parameters():\n",
    "    if name == \"baseModel.layers.\"+str(i)+\".weight\":\n",
    "        \n",
    "        print(name)\n",
    "        print(torch.Tensor(param.cpu().detach().numpy()))\n",
    "        SimCLR_weight.append(torch.Tensor(param.cpu().detach().numpy()))\n",
    "        i = i+2"
   ]
  },
  {
   "cell_type": "code",
   "execution_count": 8,
   "id": "fe3f9cc1",
   "metadata": {},
   "outputs": [
    {
     "data": {
      "text/plain": [
       "torch.return_types.svd(\n",
       "U=tensor([[ 0.0064, -0.0278, -0.0046,  ...,  0.0332, -0.1533,  0.0937],\n",
       "        [-0.0474, -0.0487,  0.1023,  ...,  0.0011, -0.0234, -0.0127],\n",
       "        [ 0.1059,  0.2208, -0.0356,  ...,  0.0161, -0.0632, -0.0026],\n",
       "        ...,\n",
       "        [ 0.0982, -0.0207,  0.0935,  ..., -0.0067, -0.1082, -0.0379],\n",
       "        [-0.0392,  0.0096,  0.0302,  ..., -0.0873,  0.0619, -0.0460],\n",
       "        [-0.0331, -0.0649, -0.0614,  ...,  0.0415, -0.0401,  0.0921]]),\n",
       "S=tensor([1.7028, 1.4440, 1.3884, 1.3586, 1.2783, 1.2428, 1.2110, 1.1662, 1.1394,\n",
       "        1.0969, 1.0579, 1.0405, 1.0281, 0.9823, 0.9591, 0.9308, 0.9185, 0.9075,\n",
       "        0.8958, 0.8811, 0.8747, 0.8644, 0.8570, 0.8421, 0.8392, 0.8346, 0.8221,\n",
       "        0.8216, 0.8171, 0.8102, 0.8024, 0.7933, 0.7823, 0.7804, 0.7767, 0.7740,\n",
       "        0.7658, 0.7632, 0.7568, 0.7544, 0.7530, 0.7488, 0.7472, 0.7422, 0.7386,\n",
       "        0.7343, 0.7338, 0.7292, 0.7252, 0.7241, 0.7186, 0.7160, 0.7142, 0.7097,\n",
       "        0.7089, 0.7036, 0.7027, 0.7011, 0.6970, 0.6954, 0.6929, 0.6879, 0.6854,\n",
       "        0.6843, 0.6773, 0.6759, 0.6719, 0.6685, 0.6654, 0.6607, 0.6601, 0.6567,\n",
       "        0.6541, 0.6470, 0.6464, 0.6447, 0.6421, 0.6392, 0.6359, 0.6294, 0.6283,\n",
       "        0.6256, 0.6229, 0.6223, 0.6169, 0.6142, 0.6138, 0.6102, 0.6086, 0.6058,\n",
       "        0.6033, 0.6025, 0.5995, 0.5986, 0.5966, 0.5923, 0.5908, 0.5895, 0.5861,\n",
       "        0.5827, 0.5800, 0.5783, 0.5751, 0.5739, 0.5718, 0.5669, 0.5639, 0.5617,\n",
       "        0.5597, 0.5577, 0.5538, 0.5519, 0.5510, 0.5470, 0.5445, 0.5406, 0.5384,\n",
       "        0.5371, 0.5343, 0.5338, 0.5289, 0.5274, 0.5245, 0.5228, 0.5203, 0.5171,\n",
       "        0.5152, 0.5136, 0.5106, 0.5086, 0.5036, 0.5015, 0.5007, 0.4968, 0.4946,\n",
       "        0.4920, 0.4887, 0.4848, 0.4825, 0.4811, 0.4799, 0.4783, 0.4764, 0.4726,\n",
       "        0.4718, 0.4682, 0.4660, 0.4648, 0.4621, 0.4594, 0.4556, 0.4510, 0.4500,\n",
       "        0.4485, 0.4470, 0.4464, 0.4421, 0.4394, 0.4373, 0.4341, 0.4274, 0.4263,\n",
       "        0.4249, 0.4227, 0.4175, 0.4163, 0.4139, 0.4117, 0.4105, 0.4074, 0.4064,\n",
       "        0.4045, 0.4000, 0.3965, 0.3958, 0.3926, 0.3905, 0.3871, 0.3816, 0.3786,\n",
       "        0.3750, 0.3714, 0.3674, 0.3658, 0.3641, 0.3602, 0.3574, 0.3547, 0.3521,\n",
       "        0.3467, 0.3452, 0.3412, 0.3383, 0.3360, 0.3291, 0.3276, 0.3234, 0.3193,\n",
       "        0.3136, 0.2969]),\n",
       "V=tensor([[-0.0234,  0.0105,  0.0121,  ..., -0.0148,  0.0229,  0.0031],\n",
       "        [-0.0284, -0.0018,  0.0090,  ...,  0.0196,  0.0062, -0.0245],\n",
       "        [ 0.0073, -0.0015,  0.0263,  ...,  0.0846,  0.0309, -0.0227],\n",
       "        ...,\n",
       "        [ 0.0080,  0.0022, -0.0067,  ..., -0.0335, -0.0068,  0.0139],\n",
       "        [ 0.0072,  0.0138,  0.0078,  ...,  0.0135, -0.0305, -0.0189],\n",
       "        [-0.0148,  0.0229,  0.0021,  ...,  0.0043,  0.0197, -0.0301]]))"
      ]
     },
     "execution_count": 8,
     "metadata": {},
     "output_type": "execute_result"
    }
   ],
   "source": [
    "torch.svd(MLP_weight[0])"
   ]
  },
  {
   "cell_type": "code",
   "execution_count": 9,
   "id": "091e7232",
   "metadata": {},
   "outputs": [
    {
     "data": {
      "image/png": "[encoded data removed]",
      "text/plain": [
       "<Figure size 432x288 with 1 Axes>"
      ]
     },
     "metadata": {
      "needs_background": "light"
     },
     "output_type": "display_data"
    }
   ],
   "source": [
    "dimension_SimCLR_weight = []\n",
    "dimension_MLP_weight = []\n",
    "\n",
    "for i in range(len(MLP_weight)):\n",
    "    dimension_MLP_weight.append((sum(torch.svd(MLP_weight[i])[1]))**2/sum(torch.svd(MLP_weight[i])[1]**2))\n",
    "    dimension_SimCLR_weight.append((sum(torch.svd(SimCLR_weight[i])[1]))**2/sum(torch.svd(SimCLR_weight[i])[1]**2))\n",
    "    #plt.legend(('adtest_SimCLR', 'adtest_MLP', 'SimCLR','MLP')) \n",
    "\n",
    "plt.plot(dimension_SimCLR_weight, label='SimCLR')\n",
    "plt.plot(dimension_MLP_weight,label='MLP')\n",
    "\n",
    "plt.ylabel('dimension')\n",
    "plt.xlabel('layer')\n",
    "plt.legend()\n",
    "\n",
    "plt.savefig('./SVD_image/layer'+str(len(MLP_weight))+'.png')\n",
    "\n",
    "plt.show()\n"
   ]
  },
  {
   "cell_type": "code",
   "execution_count": 10,
   "id": "e7a7035d",
   "metadata": {},
   "outputs": [
    {
     "data": {
      "text/plain": [
       "tensor(130.8437)"
      ]
     },
     "execution_count": 10,
     "metadata": {},
     "output_type": "execute_result"
    }
   ],
   "source": [
    "dimension_MLP_weight[2]"
   ]
  },
  {
   "cell_type": "code",
   "execution_count": 11,
   "id": "312b6330",
   "metadata": {},
   "outputs": [
    {
     "data": {
      "text/plain": [
       "tensor(28.7748)"
      ]
     },
     "execution_count": 11,
     "metadata": {},
     "output_type": "execute_result"
    }
   ],
   "source": [
    "(sum(torch.svd(torch.rand(100, 150))[1]))**2/sum(torch.svd(torch.rand(100,150))[1]**2)"
   ]
  },
  {
   "cell_type": "code",
   "execution_count": null,
   "id": "26de2921",
   "metadata": {},
   "outputs": [],
   "source": []
  }
 ],
 "metadata": {
  "kernelspec": {
   "display_name": "Python 3",
   "language": "python",
   "name": "python3"
  },
  "language_info": {
   "codemirror_mode": {
    "name": "ipython",
    "version": 3
   },
   "file_extension": ".py",
   "mimetype": "text/x-python",
   "name": "python",
   "nbconvert_exporter": "python",
   "pygments_lexer": "ipython3",
   "version": "3.8.8"
  }
 },
 "nbformat": 4,
 "nbformat_minor": 5
}
